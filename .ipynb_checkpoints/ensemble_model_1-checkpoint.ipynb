{
 "cells": [
  {
   "cell_type": "code",
   "execution_count": 3,
   "id": "8937dfec",
   "metadata": {},
   "outputs": [],
   "source": [
    "#pip install torchsampler"
   ]
  },
  {
   "cell_type": "markdown",
   "id": "09a82fd3",
   "metadata": {},
   "source": [
    "<hr>"
   ]
  },
  {
   "cell_type": "markdown",
   "id": "aec4f895",
   "metadata": {},
   "source": [
    "<hr>"
   ]
  },
  {
   "cell_type": "code",
   "execution_count": 1,
   "id": "111bb615",
   "metadata": {},
   "outputs": [],
   "source": [
    "%config InlineBackend.figure_format = 'retina' # For high-resolution.\n",
    "import pandas as pd\n",
    "import numpy as np\n",
    "import pydicom as dicom\n",
    "import matplotlib.pyplot as plt\n",
    "import matplotlib.cm as cm\n",
    "import seaborn as sns\n",
    "import os\n",
    "\n",
    "import torch \n",
    "from torch import Tensor\n",
    "import torch.nn as nn\n",
    "from torch.utils.data import Dataset\n",
    "from torch.utils.data import DataLoader\n",
    "from torchvision import transforms, models\n",
    "from torch.optim import Adam\n",
    "\n",
    "\n",
    "import cv2\n",
    "from tqdm.notebook import tqdm\n",
    "\n",
    "\n",
    "import warnings\n",
    "warnings.filterwarnings('ignore')\n",
    "\n",
    "import segmentation_models_pytorch as smp\n",
    "from torchsampler import ImbalancedDatasetSampler\n",
    "\n",
    "\n",
    "from sklearn.metrics import roc_curve\n",
    "from sklearn.metrics import roc_auc_score\n",
    "from scipy.stats import pearsonr\n",
    "from sklearn.metrics import confusion_matrix"
   ]
  },
  {
   "cell_type": "code",
   "execution_count": 2,
   "id": "bce510ee",
   "metadata": {},
   "outputs": [
    {
     "name": "stdout",
     "output_type": "stream",
     "text": [
      "cuda\n",
      "1\n"
     ]
    }
   ],
   "source": [
    "## Hyperparameters\n",
    "DEVICE = torch.device(\"cuda\" if torch.cuda.is_available() else \"cpu\")\n",
    "print(DEVICE)\n",
    "print(torch.cuda.device_count())\n",
    "\n",
    "RESOLUTION = 1024\n",
    "BATCH_SIZE = 4\n",
    "NUM_WORKERS = 4\n",
    "PIN_MEMORY = True\n",
    "DROP_LAST = True\n",
    "\n",
    "LEARNING_RATE = 1e-4\n",
    "NUM_EPOCHS = 20\n",
    "\n",
    "THRESHOLD = 0.3\n",
    "# MIN_ACTIVATION_SIZE = \n"
   ]
  },
  {
   "cell_type": "code",
   "execution_count": 3,
   "id": "61aec0c8",
   "metadata": {},
   "outputs": [],
   "source": [
    "def read_df(df_type):\n",
    "    username = os.getcwd().split('/')[2]\n",
    "    df_path = '/home/{}/teams/dsc-180a---a14-[88137]/CANDID_PTX_csv/{}.csv'.format(username, df_type)\n",
    "    df = pd.read_csv(df_path)[['Mask_Path', 'XRay_Path']]\n",
    "    df['Mask_Path'] = df['Mask_Path'].str.replace('anw008', username)\n",
    "    df['XRay_Path'] = df['XRay_Path'].str.replace('anw008', username)\n",
    "    df['No_Pneumothorax'] = df['Mask_Path'].str.contains('negative_mask').astype(int)\n",
    "    df['Yes_Pneumothorax'] = 1 - df['No_Pneumothorax']\n",
    "    \n",
    "    \n",
    "    return df"
   ]
  },
  {
   "cell_type": "code",
   "execution_count": 4,
   "id": "4f2c008d",
   "metadata": {},
   "outputs": [],
   "source": [
    "train_df = read_df('train')\n",
    "val_df = read_df('validation')\n",
    "test_df = read_df('test')"
   ]
  },
  {
   "cell_type": "code",
   "execution_count": 10,
   "id": "85a57e99",
   "metadata": {},
   "outputs": [],
   "source": [
    "class CANDID_PTX(Dataset):\n",
    "    def __init__(self, df, resolution, model_type):\n",
    "        self.img_paths = df['XRay_Path'].values\n",
    "        self.mask_paths = df['Mask_Path'].values\n",
    "        self.labels = torch.tensor(df[['Yes_Pneumothorax', 'No_Pneumothorax']].values, dtype=torch.float32)\n",
    "    \n",
    "        self.resolution = resolution\n",
    "        \n",
    "        # model_type: 'C' for Classification, 'S' for Segmentation\n",
    "        self.model_type = model_type\n",
    "              \n",
    "        return\n",
    "            \n",
    "    \n",
    "    def __len__(self):\n",
    "        \n",
    "        return self.img_paths.shape[0]\n",
    "    \n",
    "    \n",
    "    def __getitem__(self, idx):\n",
    "        img_path = self.img_paths[idx]\n",
    "        '''\n",
    "        if self.model_type == 'E':\n",
    "            label = self.labels[idx]\n",
    "            \n",
    "            new_img_path = img_path[:-4] + '_predicted.png'\n",
    "            new_img = plt.imread(new_img_path)\n",
    "            new_img = torch.tensor(new_img).expand(3)\n",
    "            \n",
    "            return new_img, label\n",
    "        '''\n",
    "        \n",
    "        img = dicom.dcmread(img_path).pixel_array\n",
    "        img_min = np.min(img)\n",
    "        img_max = np.max(img)\n",
    "        img_norm = (img - img_min) / (img_max - img_min)\n",
    "        img_norm = cv2.resize(img_norm, (self.resolution, self.resolution))\n",
    "        img_norm = torch.tensor(img_norm).expand(3, self.resolution, self.resolution)\n",
    "        \n",
    "        if self.model_type == 'C':\n",
    "            label = self.labels[idx]\n",
    "            \n",
    "            return img_norm, label\n",
    "        \n",
    "        elif self.model_type == 'S':\n",
    "            mask_path = self.mask_paths[idx]\n",
    "            mask = plt.imread(mask_path)[:, :, 0]\n",
    "            mask = cv2.resize(mask, (self.resolution, self.resolution))\n",
    "#             mask = np.where(mask < 0.5, 0, 1)\n",
    "            mask = torch.tensor(mask).expand(1, self.resolution, self.resolution) \n",
    "\n",
    "            return img_norm, mask"
   ]
  },
  {
   "cell_type": "code",
   "execution_count": 11,
   "id": "eda27926",
   "metadata": {},
   "outputs": [],
   "source": [
    "def create_loaders(model_type):\n",
    "    train_ds = CANDID_PTX(train_df, RESOLUTION, model_type)\n",
    "    val_ds = CANDID_PTX(val_df, RESOLUTION, model_type)\n",
    "    test_ds = CANDID_PTX(test_df, RESOLUTION, model_type)\n",
    "    \n",
    "    train_loader = DataLoader(train_ds, batch_size = BATCH_SIZE, num_workers = NUM_WORKERS, \n",
    "                          pin_memory = PIN_MEMORY, drop_last = DROP_LAST, shuffle = True)\n",
    "\n",
    "    val_loader = DataLoader(val_ds, batch_size = BATCH_SIZE, num_workers = NUM_WORKERS, \n",
    "                              pin_memory = PIN_MEMORY, drop_last = DROP_LAST, shuffle = False)\n",
    "\n",
    "    test_loader = DataLoader(test_ds, batch_size = BATCH_SIZE, num_workers = NUM_WORKERS, \n",
    "                              pin_memory = PIN_MEMORY, drop_last = DROP_LAST, shuffle = False)\n",
    "    \n",
    "    \n",
    "    return train_loader, val_loader, test_loader"
   ]
  },
  {
   "cell_type": "code",
   "execution_count": 7,
   "id": "9f18d7e1",
   "metadata": {},
   "outputs": [],
   "source": [
    "# ### Create Dataset\n",
    "# train_ds = CANDID_PTX(train_df, RESOLUTION, 'C')\n",
    "# # new_train_ds = CANDID_PTX(new_train_df, RESOLUTION, 'C')\n",
    "# val_ds = CANDID_PTX(val_df, RESOLUTION, 'C')\n",
    "# test_ds = CANDID_PTX(test_df, RESOLUTION, 'C')\n",
    "\n",
    "# ### Create Dataloader\n",
    "# train_loader = DataLoader(train_ds, batch_size = BATCH_SIZE, num_workers = NUM_WORKERS, \n",
    "#                           pin_memory = PIN_MEMORY, drop_last = DROP_LAST, shuffle = True)\n",
    "\n",
    "# val_loader = DataLoader(val_ds, batch_size = BATCH_SIZE, num_workers = NUM_WORKERS, \n",
    "#                           pin_memory = PIN_MEMORY, drop_last = DROP_LAST, shuffle = False)\n",
    "\n",
    "# test_loader = DataLoader(test_ds, batch_size = BATCH_SIZE, num_workers = NUM_WORKERS, \n",
    "#                           pin_memory = PIN_MEMORY, drop_last = DROP_LAST, shuffle = False)\n",
    "\n",
    "\n",
    "# # new_train_loader = DataLoader(\n",
    "# #     new_train_ds,\n",
    "# #     sampler=ImbalancedDatasetSampler(new_train_ds),\n",
    "# #     batch_size = BATCH_SIZE, num_workers = NUM_WORKERS, \n",
    "# #     pin_memory = PIN_MEMORY, drop_last = DROP_LAST, shuffle = Trues\n",
    "# # )"
   ]
  },
  {
   "cell_type": "code",
   "execution_count": 12,
   "id": "ba01d87f",
   "metadata": {},
   "outputs": [],
   "source": [
    "loaders_seg = create_loaders('S')\n"
   ]
  },
  {
   "cell_type": "code",
   "execution_count": 83,
   "id": "32a9659a",
   "metadata": {},
   "outputs": [
    {
     "data": {
      "text/html": [
       "<div>\n",
       "<style scoped>\n",
       "    .dataframe tbody tr th:only-of-type {\n",
       "        vertical-align: middle;\n",
       "    }\n",
       "\n",
       "    .dataframe tbody tr th {\n",
       "        vertical-align: top;\n",
       "    }\n",
       "\n",
       "    .dataframe thead th {\n",
       "        text-align: right;\n",
       "    }\n",
       "</style>\n",
       "<table border=\"1\" class=\"dataframe\">\n",
       "  <thead>\n",
       "    <tr style=\"text-align: right;\">\n",
       "      <th></th>\n",
       "      <th>Mask_Path</th>\n",
       "      <th>XRay_Path</th>\n",
       "      <th>No_Pneumothorax</th>\n",
       "      <th>Yes_Pneumothorax</th>\n",
       "    </tr>\n",
       "  </thead>\n",
       "  <tbody>\n",
       "    <tr>\n",
       "      <th>5</th>\n",
       "      <td>/home/mel011/teams/dsc-180a---a14-[88137]/CAND...</td>\n",
       "      <td>/home/mel011/teams/dsc-180a---a14-[88137]/CAND...</td>\n",
       "      <td>0</td>\n",
       "      <td>1</td>\n",
       "    </tr>\n",
       "    <tr>\n",
       "      <th>26</th>\n",
       "      <td>/home/mel011/teams/dsc-180a---a14-[88137]/CAND...</td>\n",
       "      <td>/home/mel011/teams/dsc-180a---a14-[88137]/CAND...</td>\n",
       "      <td>0</td>\n",
       "      <td>1</td>\n",
       "    </tr>\n",
       "    <tr>\n",
       "      <th>28</th>\n",
       "      <td>/home/mel011/teams/dsc-180a---a14-[88137]/CAND...</td>\n",
       "      <td>/home/mel011/teams/dsc-180a---a14-[88137]/CAND...</td>\n",
       "      <td>0</td>\n",
       "      <td>1</td>\n",
       "    </tr>\n",
       "    <tr>\n",
       "      <th>43</th>\n",
       "      <td>/home/mel011/teams/dsc-180a---a14-[88137]/CAND...</td>\n",
       "      <td>/home/mel011/teams/dsc-180a---a14-[88137]/CAND...</td>\n",
       "      <td>0</td>\n",
       "      <td>1</td>\n",
       "    </tr>\n",
       "    <tr>\n",
       "      <th>50</th>\n",
       "      <td>/home/mel011/teams/dsc-180a---a14-[88137]/CAND...</td>\n",
       "      <td>/home/mel011/teams/dsc-180a---a14-[88137]/CAND...</td>\n",
       "      <td>0</td>\n",
       "      <td>1</td>\n",
       "    </tr>\n",
       "    <tr>\n",
       "      <th>...</th>\n",
       "      <td>...</td>\n",
       "      <td>...</td>\n",
       "      <td>...</td>\n",
       "      <td>...</td>\n",
       "    </tr>\n",
       "    <tr>\n",
       "      <th>1899</th>\n",
       "      <td>/home/mel011/teams/dsc-180a---a14-[88137]/CAND...</td>\n",
       "      <td>/home/mel011/teams/dsc-180a---a14-[88137]/CAND...</td>\n",
       "      <td>0</td>\n",
       "      <td>1</td>\n",
       "    </tr>\n",
       "    <tr>\n",
       "      <th>1901</th>\n",
       "      <td>/home/mel011/teams/dsc-180a---a14-[88137]/CAND...</td>\n",
       "      <td>/home/mel011/teams/dsc-180a---a14-[88137]/CAND...</td>\n",
       "      <td>0</td>\n",
       "      <td>1</td>\n",
       "    </tr>\n",
       "    <tr>\n",
       "      <th>1909</th>\n",
       "      <td>/home/mel011/teams/dsc-180a---a14-[88137]/CAND...</td>\n",
       "      <td>/home/mel011/teams/dsc-180a---a14-[88137]/CAND...</td>\n",
       "      <td>0</td>\n",
       "      <td>1</td>\n",
       "    </tr>\n",
       "    <tr>\n",
       "      <th>1911</th>\n",
       "      <td>/home/mel011/teams/dsc-180a---a14-[88137]/CAND...</td>\n",
       "      <td>/home/mel011/teams/dsc-180a---a14-[88137]/CAND...</td>\n",
       "      <td>0</td>\n",
       "      <td>1</td>\n",
       "    </tr>\n",
       "    <tr>\n",
       "      <th>1919</th>\n",
       "      <td>/home/mel011/teams/dsc-180a---a14-[88137]/CAND...</td>\n",
       "      <td>/home/mel011/teams/dsc-180a---a14-[88137]/CAND...</td>\n",
       "      <td>0</td>\n",
       "      <td>1</td>\n",
       "    </tr>\n",
       "  </tbody>\n",
       "</table>\n",
       "<p>320 rows × 4 columns</p>\n",
       "</div>"
      ],
      "text/plain": [
       "                                              Mask_Path  \\\n",
       "5     /home/mel011/teams/dsc-180a---a14-[88137]/CAND...   \n",
       "26    /home/mel011/teams/dsc-180a---a14-[88137]/CAND...   \n",
       "28    /home/mel011/teams/dsc-180a---a14-[88137]/CAND...   \n",
       "43    /home/mel011/teams/dsc-180a---a14-[88137]/CAND...   \n",
       "50    /home/mel011/teams/dsc-180a---a14-[88137]/CAND...   \n",
       "...                                                 ...   \n",
       "1899  /home/mel011/teams/dsc-180a---a14-[88137]/CAND...   \n",
       "1901  /home/mel011/teams/dsc-180a---a14-[88137]/CAND...   \n",
       "1909  /home/mel011/teams/dsc-180a---a14-[88137]/CAND...   \n",
       "1911  /home/mel011/teams/dsc-180a---a14-[88137]/CAND...   \n",
       "1919  /home/mel011/teams/dsc-180a---a14-[88137]/CAND...   \n",
       "\n",
       "                                              XRay_Path  No_Pneumothorax  \\\n",
       "5     /home/mel011/teams/dsc-180a---a14-[88137]/CAND...                0   \n",
       "26    /home/mel011/teams/dsc-180a---a14-[88137]/CAND...                0   \n",
       "28    /home/mel011/teams/dsc-180a---a14-[88137]/CAND...                0   \n",
       "43    /home/mel011/teams/dsc-180a---a14-[88137]/CAND...                0   \n",
       "50    /home/mel011/teams/dsc-180a---a14-[88137]/CAND...                0   \n",
       "...                                                 ...              ...   \n",
       "1899  /home/mel011/teams/dsc-180a---a14-[88137]/CAND...                0   \n",
       "1901  /home/mel011/teams/dsc-180a---a14-[88137]/CAND...                0   \n",
       "1909  /home/mel011/teams/dsc-180a---a14-[88137]/CAND...                0   \n",
       "1911  /home/mel011/teams/dsc-180a---a14-[88137]/CAND...                0   \n",
       "1919  /home/mel011/teams/dsc-180a---a14-[88137]/CAND...                0   \n",
       "\n",
       "      Yes_Pneumothorax  \n",
       "5                    1  \n",
       "26                   1  \n",
       "28                   1  \n",
       "43                   1  \n",
       "50                   1  \n",
       "...                ...  \n",
       "1899                 1  \n",
       "1901                 1  \n",
       "1909                 1  \n",
       "1911                 1  \n",
       "1919                 1  \n",
       "\n",
       "[320 rows x 4 columns]"
      ]
     },
     "execution_count": 83,
     "metadata": {},
     "output_type": "execute_result"
    }
   ],
   "source": [
    "test_df[test_df['Yes_Pneumothorax'] == 1].lo"
   ]
  },
  {
   "cell_type": "code",
   "execution_count": 62,
   "id": "0a40861b",
   "metadata": {},
   "outputs": [
    {
     "data": {
      "text/plain": [
       "<torch.utils.data.dataloader.DataLoader at 0x7fdcdc6dd1c0>"
      ]
     },
     "execution_count": 62,
     "metadata": {},
     "output_type": "execute_result"
    }
   ],
   "source": [
    "loaders_seg[1]"
   ]
  },
  {
   "cell_type": "code",
   "execution_count": 79,
   "id": "44629c85",
   "metadata": {},
   "outputs": [
    {
     "data": {
      "text/plain": [
       "tensor(1841)"
      ]
     },
     "execution_count": 79,
     "metadata": {},
     "output_type": "execute_result"
    }
   ],
   "source": [
    "(sample_1[1][0] != sample_2[1][0])[0].sum()"
   ]
  },
  {
   "cell_type": "code",
   "execution_count": 81,
   "id": "761b9e1d",
   "metadata": {},
   "outputs": [
    {
     "data": {
      "text/plain": [
       "tensor([0.0000, 0.2500, 0.5000, 0.7500, 1.0000])"
      ]
     },
     "execution_count": 81,
     "metadata": {},
     "output_type": "execute_result"
    }
   ],
   "source": [
    "sample_2[1][0].unique()"
   ]
  },
  {
   "cell_type": "code",
   "execution_count": 11,
   "id": "f0c5a400",
   "metadata": {},
   "outputs": [
    {
     "name": "stderr",
     "output_type": "stream",
     "text": [
      "[W pthreadpool-cpp.cc:90] Warning: Leaking Caffe2 thread-pool after fork. (function pthreadpool)\n",
      "[W pthreadpool-cpp.cc:90] Warning: Leaking Caffe2 thread-pool after fork. (function pthreadpool)\n",
      "[W pthreadpool-cpp.cc:90] Warning: Leaking Caffe2 thread-pool after fork. (function pthreadpool)\n",
      "[W pthreadpool-cpp.cc:90] Warning: Leaking Caffe2 thread-pool after fork. (function pthreadpool)\n"
     ]
    },
    {
     "name": "stdout",
     "output_type": "stream",
     "text": [
      "--Check length of first batch, should be 2\n",
      "2\n",
      "--Check size of input images of first batch, should be ([4, 3, 512, 512])\n",
      "torch.Size([4, 3, 512, 512])\n",
      "tensor([[[0., 0., 0.,  ..., 0., 0., 0.],\n",
      "         [0., 0., 0.,  ..., 0., 0., 0.],\n",
      "         [0., 0., 0.,  ..., 0., 0., 0.],\n",
      "         ...,\n",
      "         [0., 0., 0.,  ..., 0., 0., 0.],\n",
      "         [0., 0., 0.,  ..., 0., 0., 0.],\n",
      "         [0., 0., 0.,  ..., 0., 0., 0.]],\n",
      "\n",
      "        [[0., 0., 0.,  ..., 0., 0., 0.],\n",
      "         [0., 0., 0.,  ..., 0., 0., 0.],\n",
      "         [0., 0., 0.,  ..., 0., 0., 0.],\n",
      "         ...,\n",
      "         [0., 0., 0.,  ..., 0., 0., 0.],\n",
      "         [0., 0., 0.,  ..., 0., 0., 0.],\n",
      "         [0., 0., 0.,  ..., 0., 0., 0.]],\n",
      "\n",
      "        [[0., 0., 0.,  ..., 0., 0., 0.],\n",
      "         [0., 0., 0.,  ..., 0., 0., 0.],\n",
      "         [0., 0., 0.,  ..., 0., 0., 0.],\n",
      "         ...,\n",
      "         [0., 0., 0.,  ..., 0., 0., 0.],\n",
      "         [0., 0., 0.,  ..., 0., 0., 0.],\n",
      "         [0., 0., 0.,  ..., 0., 0., 0.]]], dtype=torch.float64)\n",
      "--Check size of labels/masks of first batch\n",
      "torch.Size([4, 1, 512, 512])\n",
      "tensor([[[0., 0., 0.,  ..., 0., 0., 0.],\n",
      "         [0., 0., 0.,  ..., 0., 0., 0.],\n",
      "         [0., 0., 0.,  ..., 0., 0., 0.],\n",
      "         ...,\n",
      "         [0., 0., 0.,  ..., 0., 0., 0.],\n",
      "         [0., 0., 0.,  ..., 0., 0., 0.],\n",
      "         [0., 0., 0.,  ..., 0., 0., 0.]]])\n"
     ]
    }
   ],
   "source": [
    "### Test dataloader\n",
    "sample_iter = iter(loaders_seg[1])\n",
    "sample = next(sample_iter)\n",
    "sample_2 = next(sample_iter)\n",
    "print(\"--Check length of first batch, should be 2\")\n",
    "print(len(sample))\n",
    "print(\"--Check size of input images of first batch, should be ([{}, {}, {}, {}])\".format(BATCH_SIZE, 3, RESOLUTION, RESOLUTION))\n",
    "print(sample[0].size())\n",
    "print(sample[0][0])\n",
    "print(\"--Check size of labels/masks of first batch\")\n",
    "print(sample[1].size())\n",
    "print(sample[1][0])"
   ]
  },
  {
   "cell_type": "markdown",
   "id": "ff157608",
   "metadata": {},
   "source": [
    "<hr>"
   ]
  },
  {
   "cell_type": "code",
   "execution_count": 13,
   "id": "e71a64dd",
   "metadata": {},
   "outputs": [],
   "source": [
    "model_seg = smp.Unet(\"resnet34\", encoder_weights=\"imagenet\", in_channels = 3, classes=1, activation=None)"
   ]
  },
  {
   "cell_type": "code",
   "execution_count": 14,
   "id": "06dea5a7",
   "metadata": {},
   "outputs": [
    {
     "data": {
      "text/plain": [
       "Unet(\n",
       "  (encoder): ResNetEncoder(\n",
       "    (conv1): Conv2d(3, 64, kernel_size=(7, 7), stride=(2, 2), padding=(3, 3), bias=False)\n",
       "    (bn1): BatchNorm2d(64, eps=1e-05, momentum=0.1, affine=True, track_running_stats=True)\n",
       "    (relu): ReLU(inplace=True)\n",
       "    (maxpool): MaxPool2d(kernel_size=3, stride=2, padding=1, dilation=1, ceil_mode=False)\n",
       "    (layer1): Sequential(\n",
       "      (0): BasicBlock(\n",
       "        (conv1): Conv2d(64, 64, kernel_size=(3, 3), stride=(1, 1), padding=(1, 1), bias=False)\n",
       "        (bn1): BatchNorm2d(64, eps=1e-05, momentum=0.1, affine=True, track_running_stats=True)\n",
       "        (relu): ReLU(inplace=True)\n",
       "        (conv2): Conv2d(64, 64, kernel_size=(3, 3), stride=(1, 1), padding=(1, 1), bias=False)\n",
       "        (bn2): BatchNorm2d(64, eps=1e-05, momentum=0.1, affine=True, track_running_stats=True)\n",
       "      )\n",
       "      (1): BasicBlock(\n",
       "        (conv1): Conv2d(64, 64, kernel_size=(3, 3), stride=(1, 1), padding=(1, 1), bias=False)\n",
       "        (bn1): BatchNorm2d(64, eps=1e-05, momentum=0.1, affine=True, track_running_stats=True)\n",
       "        (relu): ReLU(inplace=True)\n",
       "        (conv2): Conv2d(64, 64, kernel_size=(3, 3), stride=(1, 1), padding=(1, 1), bias=False)\n",
       "        (bn2): BatchNorm2d(64, eps=1e-05, momentum=0.1, affine=True, track_running_stats=True)\n",
       "      )\n",
       "      (2): BasicBlock(\n",
       "        (conv1): Conv2d(64, 64, kernel_size=(3, 3), stride=(1, 1), padding=(1, 1), bias=False)\n",
       "        (bn1): BatchNorm2d(64, eps=1e-05, momentum=0.1, affine=True, track_running_stats=True)\n",
       "        (relu): ReLU(inplace=True)\n",
       "        (conv2): Conv2d(64, 64, kernel_size=(3, 3), stride=(1, 1), padding=(1, 1), bias=False)\n",
       "        (bn2): BatchNorm2d(64, eps=1e-05, momentum=0.1, affine=True, track_running_stats=True)\n",
       "      )\n",
       "    )\n",
       "    (layer2): Sequential(\n",
       "      (0): BasicBlock(\n",
       "        (conv1): Conv2d(64, 128, kernel_size=(3, 3), stride=(2, 2), padding=(1, 1), bias=False)\n",
       "        (bn1): BatchNorm2d(128, eps=1e-05, momentum=0.1, affine=True, track_running_stats=True)\n",
       "        (relu): ReLU(inplace=True)\n",
       "        (conv2): Conv2d(128, 128, kernel_size=(3, 3), stride=(1, 1), padding=(1, 1), bias=False)\n",
       "        (bn2): BatchNorm2d(128, eps=1e-05, momentum=0.1, affine=True, track_running_stats=True)\n",
       "        (downsample): Sequential(\n",
       "          (0): Conv2d(64, 128, kernel_size=(1, 1), stride=(2, 2), bias=False)\n",
       "          (1): BatchNorm2d(128, eps=1e-05, momentum=0.1, affine=True, track_running_stats=True)\n",
       "        )\n",
       "      )\n",
       "      (1): BasicBlock(\n",
       "        (conv1): Conv2d(128, 128, kernel_size=(3, 3), stride=(1, 1), padding=(1, 1), bias=False)\n",
       "        (bn1): BatchNorm2d(128, eps=1e-05, momentum=0.1, affine=True, track_running_stats=True)\n",
       "        (relu): ReLU(inplace=True)\n",
       "        (conv2): Conv2d(128, 128, kernel_size=(3, 3), stride=(1, 1), padding=(1, 1), bias=False)\n",
       "        (bn2): BatchNorm2d(128, eps=1e-05, momentum=0.1, affine=True, track_running_stats=True)\n",
       "      )\n",
       "      (2): BasicBlock(\n",
       "        (conv1): Conv2d(128, 128, kernel_size=(3, 3), stride=(1, 1), padding=(1, 1), bias=False)\n",
       "        (bn1): BatchNorm2d(128, eps=1e-05, momentum=0.1, affine=True, track_running_stats=True)\n",
       "        (relu): ReLU(inplace=True)\n",
       "        (conv2): Conv2d(128, 128, kernel_size=(3, 3), stride=(1, 1), padding=(1, 1), bias=False)\n",
       "        (bn2): BatchNorm2d(128, eps=1e-05, momentum=0.1, affine=True, track_running_stats=True)\n",
       "      )\n",
       "      (3): BasicBlock(\n",
       "        (conv1): Conv2d(128, 128, kernel_size=(3, 3), stride=(1, 1), padding=(1, 1), bias=False)\n",
       "        (bn1): BatchNorm2d(128, eps=1e-05, momentum=0.1, affine=True, track_running_stats=True)\n",
       "        (relu): ReLU(inplace=True)\n",
       "        (conv2): Conv2d(128, 128, kernel_size=(3, 3), stride=(1, 1), padding=(1, 1), bias=False)\n",
       "        (bn2): BatchNorm2d(128, eps=1e-05, momentum=0.1, affine=True, track_running_stats=True)\n",
       "      )\n",
       "    )\n",
       "    (layer3): Sequential(\n",
       "      (0): BasicBlock(\n",
       "        (conv1): Conv2d(128, 256, kernel_size=(3, 3), stride=(2, 2), padding=(1, 1), bias=False)\n",
       "        (bn1): BatchNorm2d(256, eps=1e-05, momentum=0.1, affine=True, track_running_stats=True)\n",
       "        (relu): ReLU(inplace=True)\n",
       "        (conv2): Conv2d(256, 256, kernel_size=(3, 3), stride=(1, 1), padding=(1, 1), bias=False)\n",
       "        (bn2): BatchNorm2d(256, eps=1e-05, momentum=0.1, affine=True, track_running_stats=True)\n",
       "        (downsample): Sequential(\n",
       "          (0): Conv2d(128, 256, kernel_size=(1, 1), stride=(2, 2), bias=False)\n",
       "          (1): BatchNorm2d(256, eps=1e-05, momentum=0.1, affine=True, track_running_stats=True)\n",
       "        )\n",
       "      )\n",
       "      (1): BasicBlock(\n",
       "        (conv1): Conv2d(256, 256, kernel_size=(3, 3), stride=(1, 1), padding=(1, 1), bias=False)\n",
       "        (bn1): BatchNorm2d(256, eps=1e-05, momentum=0.1, affine=True, track_running_stats=True)\n",
       "        (relu): ReLU(inplace=True)\n",
       "        (conv2): Conv2d(256, 256, kernel_size=(3, 3), stride=(1, 1), padding=(1, 1), bias=False)\n",
       "        (bn2): BatchNorm2d(256, eps=1e-05, momentum=0.1, affine=True, track_running_stats=True)\n",
       "      )\n",
       "      (2): BasicBlock(\n",
       "        (conv1): Conv2d(256, 256, kernel_size=(3, 3), stride=(1, 1), padding=(1, 1), bias=False)\n",
       "        (bn1): BatchNorm2d(256, eps=1e-05, momentum=0.1, affine=True, track_running_stats=True)\n",
       "        (relu): ReLU(inplace=True)\n",
       "        (conv2): Conv2d(256, 256, kernel_size=(3, 3), stride=(1, 1), padding=(1, 1), bias=False)\n",
       "        (bn2): BatchNorm2d(256, eps=1e-05, momentum=0.1, affine=True, track_running_stats=True)\n",
       "      )\n",
       "      (3): BasicBlock(\n",
       "        (conv1): Conv2d(256, 256, kernel_size=(3, 3), stride=(1, 1), padding=(1, 1), bias=False)\n",
       "        (bn1): BatchNorm2d(256, eps=1e-05, momentum=0.1, affine=True, track_running_stats=True)\n",
       "        (relu): ReLU(inplace=True)\n",
       "        (conv2): Conv2d(256, 256, kernel_size=(3, 3), stride=(1, 1), padding=(1, 1), bias=False)\n",
       "        (bn2): BatchNorm2d(256, eps=1e-05, momentum=0.1, affine=True, track_running_stats=True)\n",
       "      )\n",
       "      (4): BasicBlock(\n",
       "        (conv1): Conv2d(256, 256, kernel_size=(3, 3), stride=(1, 1), padding=(1, 1), bias=False)\n",
       "        (bn1): BatchNorm2d(256, eps=1e-05, momentum=0.1, affine=True, track_running_stats=True)\n",
       "        (relu): ReLU(inplace=True)\n",
       "        (conv2): Conv2d(256, 256, kernel_size=(3, 3), stride=(1, 1), padding=(1, 1), bias=False)\n",
       "        (bn2): BatchNorm2d(256, eps=1e-05, momentum=0.1, affine=True, track_running_stats=True)\n",
       "      )\n",
       "      (5): BasicBlock(\n",
       "        (conv1): Conv2d(256, 256, kernel_size=(3, 3), stride=(1, 1), padding=(1, 1), bias=False)\n",
       "        (bn1): BatchNorm2d(256, eps=1e-05, momentum=0.1, affine=True, track_running_stats=True)\n",
       "        (relu): ReLU(inplace=True)\n",
       "        (conv2): Conv2d(256, 256, kernel_size=(3, 3), stride=(1, 1), padding=(1, 1), bias=False)\n",
       "        (bn2): BatchNorm2d(256, eps=1e-05, momentum=0.1, affine=True, track_running_stats=True)\n",
       "      )\n",
       "    )\n",
       "    (layer4): Sequential(\n",
       "      (0): BasicBlock(\n",
       "        (conv1): Conv2d(256, 512, kernel_size=(3, 3), stride=(2, 2), padding=(1, 1), bias=False)\n",
       "        (bn1): BatchNorm2d(512, eps=1e-05, momentum=0.1, affine=True, track_running_stats=True)\n",
       "        (relu): ReLU(inplace=True)\n",
       "        (conv2): Conv2d(512, 512, kernel_size=(3, 3), stride=(1, 1), padding=(1, 1), bias=False)\n",
       "        (bn2): BatchNorm2d(512, eps=1e-05, momentum=0.1, affine=True, track_running_stats=True)\n",
       "        (downsample): Sequential(\n",
       "          (0): Conv2d(256, 512, kernel_size=(1, 1), stride=(2, 2), bias=False)\n",
       "          (1): BatchNorm2d(512, eps=1e-05, momentum=0.1, affine=True, track_running_stats=True)\n",
       "        )\n",
       "      )\n",
       "      (1): BasicBlock(\n",
       "        (conv1): Conv2d(512, 512, kernel_size=(3, 3), stride=(1, 1), padding=(1, 1), bias=False)\n",
       "        (bn1): BatchNorm2d(512, eps=1e-05, momentum=0.1, affine=True, track_running_stats=True)\n",
       "        (relu): ReLU(inplace=True)\n",
       "        (conv2): Conv2d(512, 512, kernel_size=(3, 3), stride=(1, 1), padding=(1, 1), bias=False)\n",
       "        (bn2): BatchNorm2d(512, eps=1e-05, momentum=0.1, affine=True, track_running_stats=True)\n",
       "      )\n",
       "      (2): BasicBlock(\n",
       "        (conv1): Conv2d(512, 512, kernel_size=(3, 3), stride=(1, 1), padding=(1, 1), bias=False)\n",
       "        (bn1): BatchNorm2d(512, eps=1e-05, momentum=0.1, affine=True, track_running_stats=True)\n",
       "        (relu): ReLU(inplace=True)\n",
       "        (conv2): Conv2d(512, 512, kernel_size=(3, 3), stride=(1, 1), padding=(1, 1), bias=False)\n",
       "        (bn2): BatchNorm2d(512, eps=1e-05, momentum=0.1, affine=True, track_running_stats=True)\n",
       "      )\n",
       "    )\n",
       "  )\n",
       "  (decoder): UnetDecoder(\n",
       "    (center): Identity()\n",
       "    (blocks): ModuleList(\n",
       "      (0): DecoderBlock(\n",
       "        (conv1): Conv2dReLU(\n",
       "          (0): Conv2d(768, 256, kernel_size=(3, 3), stride=(1, 1), padding=(1, 1), bias=False)\n",
       "          (1): BatchNorm2d(256, eps=1e-05, momentum=0.1, affine=True, track_running_stats=True)\n",
       "          (2): ReLU(inplace=True)\n",
       "        )\n",
       "        (attention1): Attention(\n",
       "          (attention): Identity()\n",
       "        )\n",
       "        (conv2): Conv2dReLU(\n",
       "          (0): Conv2d(256, 256, kernel_size=(3, 3), stride=(1, 1), padding=(1, 1), bias=False)\n",
       "          (1): BatchNorm2d(256, eps=1e-05, momentum=0.1, affine=True, track_running_stats=True)\n",
       "          (2): ReLU(inplace=True)\n",
       "        )\n",
       "        (attention2): Attention(\n",
       "          (attention): Identity()\n",
       "        )\n",
       "      )\n",
       "      (1): DecoderBlock(\n",
       "        (conv1): Conv2dReLU(\n",
       "          (0): Conv2d(384, 128, kernel_size=(3, 3), stride=(1, 1), padding=(1, 1), bias=False)\n",
       "          (1): BatchNorm2d(128, eps=1e-05, momentum=0.1, affine=True, track_running_stats=True)\n",
       "          (2): ReLU(inplace=True)\n",
       "        )\n",
       "        (attention1): Attention(\n",
       "          (attention): Identity()\n",
       "        )\n",
       "        (conv2): Conv2dReLU(\n",
       "          (0): Conv2d(128, 128, kernel_size=(3, 3), stride=(1, 1), padding=(1, 1), bias=False)\n",
       "          (1): BatchNorm2d(128, eps=1e-05, momentum=0.1, affine=True, track_running_stats=True)\n",
       "          (2): ReLU(inplace=True)\n",
       "        )\n",
       "        (attention2): Attention(\n",
       "          (attention): Identity()\n",
       "        )\n",
       "      )\n",
       "      (2): DecoderBlock(\n",
       "        (conv1): Conv2dReLU(\n",
       "          (0): Conv2d(192, 64, kernel_size=(3, 3), stride=(1, 1), padding=(1, 1), bias=False)\n",
       "          (1): BatchNorm2d(64, eps=1e-05, momentum=0.1, affine=True, track_running_stats=True)\n",
       "          (2): ReLU(inplace=True)\n",
       "        )\n",
       "        (attention1): Attention(\n",
       "          (attention): Identity()\n",
       "        )\n",
       "        (conv2): Conv2dReLU(\n",
       "          (0): Conv2d(64, 64, kernel_size=(3, 3), stride=(1, 1), padding=(1, 1), bias=False)\n",
       "          (1): BatchNorm2d(64, eps=1e-05, momentum=0.1, affine=True, track_running_stats=True)\n",
       "          (2): ReLU(inplace=True)\n",
       "        )\n",
       "        (attention2): Attention(\n",
       "          (attention): Identity()\n",
       "        )\n",
       "      )\n",
       "      (3): DecoderBlock(\n",
       "        (conv1): Conv2dReLU(\n",
       "          (0): Conv2d(128, 32, kernel_size=(3, 3), stride=(1, 1), padding=(1, 1), bias=False)\n",
       "          (1): BatchNorm2d(32, eps=1e-05, momentum=0.1, affine=True, track_running_stats=True)\n",
       "          (2): ReLU(inplace=True)\n",
       "        )\n",
       "        (attention1): Attention(\n",
       "          (attention): Identity()\n",
       "        )\n",
       "        (conv2): Conv2dReLU(\n",
       "          (0): Conv2d(32, 32, kernel_size=(3, 3), stride=(1, 1), padding=(1, 1), bias=False)\n",
       "          (1): BatchNorm2d(32, eps=1e-05, momentum=0.1, affine=True, track_running_stats=True)\n",
       "          (2): ReLU(inplace=True)\n",
       "        )\n",
       "        (attention2): Attention(\n",
       "          (attention): Identity()\n",
       "        )\n",
       "      )\n",
       "      (4): DecoderBlock(\n",
       "        (conv1): Conv2dReLU(\n",
       "          (0): Conv2d(32, 16, kernel_size=(3, 3), stride=(1, 1), padding=(1, 1), bias=False)\n",
       "          (1): BatchNorm2d(16, eps=1e-05, momentum=0.1, affine=True, track_running_stats=True)\n",
       "          (2): ReLU(inplace=True)\n",
       "        )\n",
       "        (attention1): Attention(\n",
       "          (attention): Identity()\n",
       "        )\n",
       "        (conv2): Conv2dReLU(\n",
       "          (0): Conv2d(16, 16, kernel_size=(3, 3), stride=(1, 1), padding=(1, 1), bias=False)\n",
       "          (1): BatchNorm2d(16, eps=1e-05, momentum=0.1, affine=True, track_running_stats=True)\n",
       "          (2): ReLU(inplace=True)\n",
       "        )\n",
       "        (attention2): Attention(\n",
       "          (attention): Identity()\n",
       "        )\n",
       "      )\n",
       "    )\n",
       "  )\n",
       "  (segmentation_head): SegmentationHead(\n",
       "    (0): Conv2d(16, 1, kernel_size=(3, 3), stride=(1, 1), padding=(1, 1))\n",
       "    (1): Identity()\n",
       "    (2): Activation(\n",
       "      (activation): Identity()\n",
       "    )\n",
       "  )\n",
       ")"
      ]
     },
     "execution_count": 14,
     "metadata": {},
     "output_type": "execute_result"
    }
   ],
   "source": [
    "model_seg"
   ]
  },
  {
   "cell_type": "code",
   "execution_count": 14,
   "id": "a625386d",
   "metadata": {},
   "outputs": [],
   "source": [
    "### Modifying model\n",
    "class resnet34(nn.Module):\n",
    "\n",
    "    \"\"\"\n",
    "\n",
    "    Best to use pre-trained\n",
    "\n",
    "    \"\"\"\n",
    "\n",
    "    def __init__(self):\n",
    "\n",
    "        super().__init__()\n",
    "\n",
    "        self.model = models.resnet34(pretrained=True)\n",
    "\n",
    "        # initialize new output layer\n",
    "\n",
    "#         layers = np.array([layer for layer in self.model.children()])\n",
    "\n",
    "#         for layer in layers[:-4]:\n",
    "\n",
    "#             for param in layer.parameters():\n",
    "                \n",
    "#                 # Change parameters for all layers\n",
    "#                 param.requires_grad = False\n",
    "        \n",
    "#         for layer in layers[-4][:-4]:\n",
    "#             for param in layer.parameters():\n",
    "#                 param.requires_grad = False\n",
    "        \n",
    "        layers = np.array([layer for layer in self.model.children()])\n",
    "        \n",
    "        for layer in layers[:-2]:\n",
    "\n",
    "            for param in layer.parameters():\n",
    "                \n",
    "                # Change parameters for all layers\n",
    "                param.requires_grad = False\n",
    "                \n",
    "        self.model.fc = nn.Linear(512, 2)\n",
    "        \n",
    "        #num_open_param = 0\n",
    "        \n",
    "#         for layer in layers[-3:]:\n",
    "#             for param in layer.parameters():\n",
    "#                 num_open_param += 1\n",
    "#         print('Num Open Parameters: ', num_open_param)\n",
    "\n",
    "\n",
    "    def forward(self, x):\n",
    "\n",
    "        x = self.model(x)\n",
    "\n",
    "        return x"
   ]
  },
  {
   "cell_type": "markdown",
   "id": "db2607b0",
   "metadata": {},
   "source": [
    "<hr>"
   ]
  },
  {
   "cell_type": "code",
   "execution_count": 15,
   "id": "61398ff8",
   "metadata": {},
   "outputs": [],
   "source": [
    "def training_seg(model, num_epochs, batch_size, learning_rate, \n",
    "                    train_loader, val_loader):\n",
    "    \n",
    "    model.to(DEVICE)\n",
    "    \n",
    "    all_train_loss = []\n",
    "    all_val_loss = []\n",
    "    all_preds = []\n",
    "    all_masks = []\n",
    "    all_xray = []\n",
    "    val_dice = []\n",
    "    all_dice = []\n",
    "    \n",
    "    optimizer = Adam(model.parameters(), lr=learning_rate)\n",
    "    loss_fn = torch.nn.BCEWithLogitsLoss()\n",
    "    scaler = torch.cuda.amp.GradScaler()\n",
    "    \n",
    "    for epoch in tqdm(range(num_epochs)):\n",
    "        total_train_loss = 0\n",
    "        batch_num = 0\n",
    "        model.train()\n",
    "        \n",
    "        for i, (imgs, masks) in enumerate(train_loader):\n",
    "            batch_num += 1\n",
    "            \n",
    "            imgs, masks = imgs.to(DEVICE, dtype=torch.float), masks.to(DEVICE, dtype=torch.float)\n",
    "            \n",
    "            optimizer.zero_grad()\n",
    "            preds = model(imgs)\n",
    "            \n",
    "            '''\n",
    "            img shape: [4, 3, 256, 256]\n",
    "            preds shape: [4, 1, 256, 256]\n",
    "            img[:, 2] = preds.squeeze() -> [4, 256, 256]\n",
    "            [imgs, imgs, preds], label (np.sum(masks) >= 0)\n",
    "            '''\n",
    "            \n",
    "            if (i == 0) & (epoch == 0):\n",
    "                print(preds)\n",
    "#             print(preds.size())\n",
    "#             print(masks.size())\n",
    "\n",
    "            \n",
    "            loss = loss_fn(preds, masks)\n",
    "    \n",
    "            loss.backward()\n",
    "            optimizer.step()\n",
    "            \n",
    "            \n",
    "#             with torch.cuda.amp.autocast():\n",
    "#                 preds = model(imgs)\n",
    "#                 if i == 0:\n",
    "#                     all_preds.append(preds.detach().cpu())\n",
    "#                 loss = loss_fn(preds, masks)\n",
    "                        \n",
    "#             optimizer.zero_grad()\n",
    "#             scaler.scale(loss).backward()\n",
    "#             scaler.step(optimizer)\n",
    "#             scaler.update()\n",
    "            \n",
    "            total_train_loss += float(loss)\n",
    "            \n",
    "            \n",
    "        if epoch == 0:\n",
    "            print(\"Total # of training batch: \", i + 1)\n",
    "\n",
    "        all_train_loss.append(total_train_loss / batch_num)\n",
    "            \n",
    "            \n",
    "    ## validation set\n",
    "        batch_num = 0\n",
    "        total_val_loss = 0\n",
    "        model.eval()\n",
    "        \n",
    "        for i, (imgs, masks) in enumerate(val_loader):\n",
    "            batch_num += 1\n",
    "            \n",
    "            imgs, masks = imgs.to(DEVICE, dtype=torch.float), masks.to(DEVICE, dtype=torch.float)\n",
    "            if (i == 0) & (epoch == 0):\n",
    "                print(masks[0].unique())\n",
    "            \n",
    "            preds = model(imgs)\n",
    "            \n",
    "            loss = loss_fn(preds, masks) # is this mean or sum?\n",
    "\n",
    "            total_val_loss += float(loss) # accumulate the total loss for this epoch.\n",
    "            \n",
    "            ##### val dice\n",
    "            pred_bi = bi_mask(preds.detach().cpu().squeeze(), THRESHOLD)\n",
    "            test_dice = []\n",
    "            for batch_i in range(BATCH_SIZE):\n",
    "                cur_dc = calculate_dc(pred_bi[batch_i], masks[batch_i].detach().cpu().squeeze().numpy())\n",
    "                test_dice.append(cur_dc)\n",
    "\n",
    "            val_dice.append(np.mean(test_dice))\n",
    "            \n",
    "            #######\n",
    "            \n",
    "            if i == 1:\n",
    "                all_preds.append(preds.detach().cpu())\n",
    "                all_masks.append(masks.detach().cpu())\n",
    "                all_xray.append(imgs.detach().cpu())\n",
    "            \n",
    "        if epoch == 0:\n",
    "            print(\"Total # of validation batch: \", i + 1)\n",
    "\n",
    "        all_val_loss.append(total_val_loss / batch_num)\n",
    "        all_dice.append(np.mean(val_dice))\n",
    "        \n",
    "    \n",
    "    #plot_both_loss(all_train_loss, all_val_loss)\n",
    "        \n",
    "    return model, all_train_loss, all_val_loss, all_preds, all_masks, all_xray, all_dice"
   ]
  },
  {
   "cell_type": "code",
   "execution_count": 16,
   "id": "96629f59",
   "metadata": {},
   "outputs": [],
   "source": [
    "def bi_mask(logit_mask, threshold):\n",
    "    mask = np.where(logit_mask <= threshold, 0, 1)\n",
    "    \n",
    "    return mask"
   ]
  },
  {
   "cell_type": "code",
   "execution_count": 17,
   "id": "ac23b580",
   "metadata": {},
   "outputs": [],
   "source": [
    "def calculate_dc(preds, true_mask):\n",
    "    \"\"\"\n",
    "    Helper function to calculate dice coefficient from predicted and true masks, both in binary.\n",
    "    \"\"\"\n",
    "    if np.sum(true_mask) == 0:\n",
    "        # Return 0 if prediction is positive but true mask is negative\n",
    "        if np.sum(preds) != 0:\n",
    "            return 0\n",
    "        else:\n",
    "            # Return 1 if prediction and true mask are both negative\n",
    "            return 1\n",
    "    else:\n",
    "        # Return 0 if prediction is negative but true mask is positive\n",
    "        if np.sum(preds) == 0:\n",
    "            return 0\n",
    "        # Actually calculate dc if both prediction and mask are both positive\n",
    "        dc = np.sum(preds[true_mask==1])*2.0 / (np.sum(preds) + np.sum(true_mask))\n",
    "        return dc"
   ]
  },
  {
   "cell_type": "code",
   "execution_count": 18,
   "id": "3f1535b0",
   "metadata": {},
   "outputs": [
    {
     "data": {
      "application/vnd.jupyter.widget-view+json": {
       "model_id": "750128db960e473599482ec632a5e23c",
       "version_major": 2,
       "version_minor": 0
      },
      "text/plain": [
       "  0%|          | 0/20 [00:00<?, ?it/s]"
      ]
     },
     "metadata": {},
     "output_type": "display_data"
    },
    {
     "name": "stdout",
     "output_type": "stream",
     "text": [
      "tensor([[[[-0.8910, -0.1504, -0.2367,  ..., -0.3605, -0.5296,  1.0002],\n",
      "          [-0.1288,  0.7302,  1.1021,  ...,  0.1583, -1.0715,  0.2011],\n",
      "          [-0.1004,  0.0945,  0.6849,  ..., -1.3076, -1.5512, -0.8290],\n",
      "          ...,\n",
      "          [ 0.2194, -0.1892,  0.2908,  ...,  0.4893,  0.7703,  0.0641],\n",
      "          [ 0.1626,  0.2165,  0.2843,  ...,  0.3447, -0.1661, -0.6240],\n",
      "          [-0.4904, -0.5588, -0.3325,  ...,  0.0636, -0.1136, -0.6977]]],\n",
      "\n",
      "\n",
      "        [[[-0.7502, -0.1169, -0.2507,  ...,  0.0521, -0.2422,  0.7444],\n",
      "          [-0.1189,  0.6318,  1.2015,  ..., -0.0196, -1.0679,  0.0984],\n",
      "          [-0.2420,  0.1632,  0.5902,  ..., -1.2252, -1.4357, -0.6512],\n",
      "          ...,\n",
      "          [ 0.1348, -0.2041,  0.5728,  ..., -0.2205, -0.0506, -0.0661],\n",
      "          [ 0.0223, -0.2666,  0.1130,  ..., -0.4861, -0.1415, -0.0361],\n",
      "          [-0.3788, -0.1948, -0.0913,  ..., -0.1438, -0.6491, -0.5549]]],\n",
      "\n",
      "\n",
      "        [[[-0.8440, -0.1987, -0.8535,  ..., -0.4485, -0.8328,  0.8829],\n",
      "          [ 0.1191,  0.8851,  0.7416,  ...,  0.2903, -1.3732,  0.3860],\n",
      "          [-0.1763,  0.7665,  1.0758,  ..., -0.7961, -1.3181, -0.3050],\n",
      "          ...,\n",
      "          [ 0.0383,  0.2564,  1.0217,  ...,  0.9338,  0.3460, -0.3897],\n",
      "          [ 0.3708,  0.4781,  0.6453,  ...,  0.0735, -0.2892, -0.5825],\n",
      "          [-0.3645, -0.3166, -0.2527,  ..., -0.1755, -0.5284, -0.6814]]],\n",
      "\n",
      "\n",
      "        [[[-0.8521,  0.0502, -0.1826,  ..., -0.6575, -0.3996,  1.0046],\n",
      "          [-0.2427,  0.6328,  0.8258,  ..., -0.1887, -0.5416,  0.1861],\n",
      "          [-0.1562,  0.3540,  0.8102,  ..., -1.2002, -1.3388, -0.8018],\n",
      "          ...,\n",
      "          [ 0.1006,  0.2133,  0.8026,  ...,  0.4539,  0.9102,  0.0122],\n",
      "          [ 0.2201,  0.0612,  0.4203,  ...,  0.6108,  0.0772, -0.5513],\n",
      "          [-0.3740, -0.5618, -0.5066,  ...,  0.0268, -0.2641, -0.6235]]]],\n",
      "       device='cuda:0', grad_fn=<AddBackward0>)\n",
      "Total # of training batch:  1278\n"
     ]
    },
    {
     "name": "stderr",
     "output_type": "stream",
     "text": [
      "[W pthreadpool-cpp.cc:90] Warning: Leaking Caffe2 thread-pool after fork. (function pthreadpool)\n",
      "[W pthreadpool-cpp.cc:90] Warning: Leaking Caffe2 thread-pool after fork. (function pthreadpool)\n",
      "[W pthreadpool-cpp.cc:90] Warning: Leaking Caffe2 thread-pool after fork. (function pthreadpool)\n",
      "[W pthreadpool-cpp.cc:90] Warning: Leaking Caffe2 thread-pool after fork. (function pthreadpool)\n"
     ]
    },
    {
     "name": "stdout",
     "output_type": "stream",
     "text": [
      "tensor([0.], device='cuda:0')\n"
     ]
    },
    {
     "ename": "RuntimeError",
     "evalue": "CUDA out of memory. Tried to allocate 64.00 MiB (GPU 0; 10.76 GiB total capacity; 9.34 GiB already allocated; 21.44 MiB free; 9.40 GiB reserved in total by PyTorch)",
     "output_type": "error",
     "traceback": [
      "\u001b[0;31m---------------------------------------------------------------------------\u001b[0m",
      "\u001b[0;31mRuntimeError\u001b[0m                              Traceback (most recent call last)",
      "\u001b[0;32m/tmp/ipykernel_7286/2862667426.py\u001b[0m in \u001b[0;36m<module>\u001b[0;34m\u001b[0m\n\u001b[0;32m----> 1\u001b[0;31m unet_model, train_loss, val_loss, logit_mask, true_mask, ori_xray, val_dice_arr = training_seg(model = model_seg,\n\u001b[0m\u001b[1;32m      2\u001b[0m                                             \u001b[0mnum_epochs\u001b[0m \u001b[0;34m=\u001b[0m \u001b[0mNUM_EPOCHS\u001b[0m\u001b[0;34m,\u001b[0m \u001b[0mbatch_size\u001b[0m \u001b[0;34m=\u001b[0m \u001b[0mBATCH_SIZE\u001b[0m\u001b[0;34m,\u001b[0m\u001b[0;34m\u001b[0m\u001b[0;34m\u001b[0m\u001b[0m\n\u001b[1;32m      3\u001b[0m                                             \u001b[0mlearning_rate\u001b[0m \u001b[0;34m=\u001b[0m \u001b[0mLEARNING_RATE\u001b[0m\u001b[0;34m,\u001b[0m\u001b[0;34m\u001b[0m\u001b[0;34m\u001b[0m\u001b[0m\n\u001b[1;32m      4\u001b[0m                                             train_loader = loaders_seg[0], val_loader = loaders_seg[1])\n",
      "\u001b[0;32m/tmp/ipykernel_7286/26130120.py\u001b[0m in \u001b[0;36mtraining_seg\u001b[0;34m(model, num_epochs, batch_size, learning_rate, train_loader, val_loader)\u001b[0m\n\u001b[1;32m     80\u001b[0m                 \u001b[0mprint\u001b[0m\u001b[0;34m(\u001b[0m\u001b[0mmasks\u001b[0m\u001b[0;34m[\u001b[0m\u001b[0;36m0\u001b[0m\u001b[0;34m]\u001b[0m\u001b[0;34m.\u001b[0m\u001b[0munique\u001b[0m\u001b[0;34m(\u001b[0m\u001b[0;34m)\u001b[0m\u001b[0;34m)\u001b[0m\u001b[0;34m\u001b[0m\u001b[0;34m\u001b[0m\u001b[0m\n\u001b[1;32m     81\u001b[0m \u001b[0;34m\u001b[0m\u001b[0m\n\u001b[0;32m---> 82\u001b[0;31m             \u001b[0mpreds\u001b[0m \u001b[0;34m=\u001b[0m \u001b[0mmodel\u001b[0m\u001b[0;34m(\u001b[0m\u001b[0mimgs\u001b[0m\u001b[0;34m)\u001b[0m\u001b[0;34m\u001b[0m\u001b[0;34m\u001b[0m\u001b[0m\n\u001b[0m\u001b[1;32m     83\u001b[0m \u001b[0;34m\u001b[0m\u001b[0m\n\u001b[1;32m     84\u001b[0m             \u001b[0mloss\u001b[0m \u001b[0;34m=\u001b[0m \u001b[0mloss_fn\u001b[0m\u001b[0;34m(\u001b[0m\u001b[0mpreds\u001b[0m\u001b[0;34m,\u001b[0m \u001b[0mmasks\u001b[0m\u001b[0;34m)\u001b[0m \u001b[0;31m# is this mean or sum?\u001b[0m\u001b[0;34m\u001b[0m\u001b[0;34m\u001b[0m\u001b[0m\n",
      "\u001b[0;32m/opt/conda/lib/python3.9/site-packages/torch/nn/modules/module.py\u001b[0m in \u001b[0;36m_call_impl\u001b[0;34m(self, *input, **kwargs)\u001b[0m\n\u001b[1;32m   1049\u001b[0m         if not (self._backward_hooks or self._forward_hooks or self._forward_pre_hooks or _global_backward_hooks\n\u001b[1;32m   1050\u001b[0m                 or _global_forward_hooks or _global_forward_pre_hooks):\n\u001b[0;32m-> 1051\u001b[0;31m             \u001b[0;32mreturn\u001b[0m \u001b[0mforward_call\u001b[0m\u001b[0;34m(\u001b[0m\u001b[0;34m*\u001b[0m\u001b[0minput\u001b[0m\u001b[0;34m,\u001b[0m \u001b[0;34m**\u001b[0m\u001b[0mkwargs\u001b[0m\u001b[0;34m)\u001b[0m\u001b[0;34m\u001b[0m\u001b[0;34m\u001b[0m\u001b[0m\n\u001b[0m\u001b[1;32m   1052\u001b[0m         \u001b[0;31m# Do not call functions when jit is used\u001b[0m\u001b[0;34m\u001b[0m\u001b[0;34m\u001b[0m\u001b[0;34m\u001b[0m\u001b[0m\n\u001b[1;32m   1053\u001b[0m         \u001b[0mfull_backward_hooks\u001b[0m\u001b[0;34m,\u001b[0m \u001b[0mnon_full_backward_hooks\u001b[0m \u001b[0;34m=\u001b[0m \u001b[0;34m[\u001b[0m\u001b[0;34m]\u001b[0m\u001b[0;34m,\u001b[0m \u001b[0;34m[\u001b[0m\u001b[0;34m]\u001b[0m\u001b[0;34m\u001b[0m\u001b[0;34m\u001b[0m\u001b[0m\n",
      "\u001b[0;32m~/.local/lib/python3.9/site-packages/segmentation_models_pytorch/base/model.py\u001b[0m in \u001b[0;36mforward\u001b[0;34m(self, x)\u001b[0m\n\u001b[1;32m     28\u001b[0m \u001b[0;34m\u001b[0m\u001b[0m\n\u001b[1;32m     29\u001b[0m         \u001b[0mfeatures\u001b[0m \u001b[0;34m=\u001b[0m \u001b[0mself\u001b[0m\u001b[0;34m.\u001b[0m\u001b[0mencoder\u001b[0m\u001b[0;34m(\u001b[0m\u001b[0mx\u001b[0m\u001b[0;34m)\u001b[0m\u001b[0;34m\u001b[0m\u001b[0;34m\u001b[0m\u001b[0m\n\u001b[0;32m---> 30\u001b[0;31m         \u001b[0mdecoder_output\u001b[0m \u001b[0;34m=\u001b[0m \u001b[0mself\u001b[0m\u001b[0;34m.\u001b[0m\u001b[0mdecoder\u001b[0m\u001b[0;34m(\u001b[0m\u001b[0;34m*\u001b[0m\u001b[0mfeatures\u001b[0m\u001b[0;34m)\u001b[0m\u001b[0;34m\u001b[0m\u001b[0;34m\u001b[0m\u001b[0m\n\u001b[0m\u001b[1;32m     31\u001b[0m \u001b[0;34m\u001b[0m\u001b[0m\n\u001b[1;32m     32\u001b[0m         \u001b[0mmasks\u001b[0m \u001b[0;34m=\u001b[0m \u001b[0mself\u001b[0m\u001b[0;34m.\u001b[0m\u001b[0msegmentation_head\u001b[0m\u001b[0;34m(\u001b[0m\u001b[0mdecoder_output\u001b[0m\u001b[0;34m)\u001b[0m\u001b[0;34m\u001b[0m\u001b[0;34m\u001b[0m\u001b[0m\n",
      "\u001b[0;32m/opt/conda/lib/python3.9/site-packages/torch/nn/modules/module.py\u001b[0m in \u001b[0;36m_call_impl\u001b[0;34m(self, *input, **kwargs)\u001b[0m\n\u001b[1;32m   1049\u001b[0m         if not (self._backward_hooks or self._forward_hooks or self._forward_pre_hooks or _global_backward_hooks\n\u001b[1;32m   1050\u001b[0m                 or _global_forward_hooks or _global_forward_pre_hooks):\n\u001b[0;32m-> 1051\u001b[0;31m             \u001b[0;32mreturn\u001b[0m \u001b[0mforward_call\u001b[0m\u001b[0;34m(\u001b[0m\u001b[0;34m*\u001b[0m\u001b[0minput\u001b[0m\u001b[0;34m,\u001b[0m \u001b[0;34m**\u001b[0m\u001b[0mkwargs\u001b[0m\u001b[0;34m)\u001b[0m\u001b[0;34m\u001b[0m\u001b[0;34m\u001b[0m\u001b[0m\n\u001b[0m\u001b[1;32m   1052\u001b[0m         \u001b[0;31m# Do not call functions when jit is used\u001b[0m\u001b[0;34m\u001b[0m\u001b[0;34m\u001b[0m\u001b[0;34m\u001b[0m\u001b[0m\n\u001b[1;32m   1053\u001b[0m         \u001b[0mfull_backward_hooks\u001b[0m\u001b[0;34m,\u001b[0m \u001b[0mnon_full_backward_hooks\u001b[0m \u001b[0;34m=\u001b[0m \u001b[0;34m[\u001b[0m\u001b[0;34m]\u001b[0m\u001b[0;34m,\u001b[0m \u001b[0;34m[\u001b[0m\u001b[0;34m]\u001b[0m\u001b[0;34m\u001b[0m\u001b[0;34m\u001b[0m\u001b[0m\n",
      "\u001b[0;32m~/.local/lib/python3.9/site-packages/segmentation_models_pytorch/decoders/unet/decoder.py\u001b[0m in \u001b[0;36mforward\u001b[0;34m(self, *features)\u001b[0m\n\u001b[1;32m    117\u001b[0m         \u001b[0;32mfor\u001b[0m \u001b[0mi\u001b[0m\u001b[0;34m,\u001b[0m \u001b[0mdecoder_block\u001b[0m \u001b[0;32min\u001b[0m \u001b[0menumerate\u001b[0m\u001b[0;34m(\u001b[0m\u001b[0mself\u001b[0m\u001b[0;34m.\u001b[0m\u001b[0mblocks\u001b[0m\u001b[0;34m)\u001b[0m\u001b[0;34m:\u001b[0m\u001b[0;34m\u001b[0m\u001b[0;34m\u001b[0m\u001b[0m\n\u001b[1;32m    118\u001b[0m             \u001b[0mskip\u001b[0m \u001b[0;34m=\u001b[0m \u001b[0mskips\u001b[0m\u001b[0;34m[\u001b[0m\u001b[0mi\u001b[0m\u001b[0;34m]\u001b[0m \u001b[0;32mif\u001b[0m \u001b[0mi\u001b[0m \u001b[0;34m<\u001b[0m \u001b[0mlen\u001b[0m\u001b[0;34m(\u001b[0m\u001b[0mskips\u001b[0m\u001b[0;34m)\u001b[0m \u001b[0;32melse\u001b[0m \u001b[0;32mNone\u001b[0m\u001b[0;34m\u001b[0m\u001b[0;34m\u001b[0m\u001b[0m\n\u001b[0;32m--> 119\u001b[0;31m             \u001b[0mx\u001b[0m \u001b[0;34m=\u001b[0m \u001b[0mdecoder_block\u001b[0m\u001b[0;34m(\u001b[0m\u001b[0mx\u001b[0m\u001b[0;34m,\u001b[0m \u001b[0mskip\u001b[0m\u001b[0;34m)\u001b[0m\u001b[0;34m\u001b[0m\u001b[0;34m\u001b[0m\u001b[0m\n\u001b[0m\u001b[1;32m    120\u001b[0m \u001b[0;34m\u001b[0m\u001b[0m\n\u001b[1;32m    121\u001b[0m         \u001b[0;32mreturn\u001b[0m \u001b[0mx\u001b[0m\u001b[0;34m\u001b[0m\u001b[0;34m\u001b[0m\u001b[0m\n",
      "\u001b[0;32m/opt/conda/lib/python3.9/site-packages/torch/nn/modules/module.py\u001b[0m in \u001b[0;36m_call_impl\u001b[0;34m(self, *input, **kwargs)\u001b[0m\n\u001b[1;32m   1049\u001b[0m         if not (self._backward_hooks or self._forward_hooks or self._forward_pre_hooks or _global_backward_hooks\n\u001b[1;32m   1050\u001b[0m                 or _global_forward_hooks or _global_forward_pre_hooks):\n\u001b[0;32m-> 1051\u001b[0;31m             \u001b[0;32mreturn\u001b[0m \u001b[0mforward_call\u001b[0m\u001b[0;34m(\u001b[0m\u001b[0;34m*\u001b[0m\u001b[0minput\u001b[0m\u001b[0;34m,\u001b[0m \u001b[0;34m**\u001b[0m\u001b[0mkwargs\u001b[0m\u001b[0;34m)\u001b[0m\u001b[0;34m\u001b[0m\u001b[0;34m\u001b[0m\u001b[0m\n\u001b[0m\u001b[1;32m   1052\u001b[0m         \u001b[0;31m# Do not call functions when jit is used\u001b[0m\u001b[0;34m\u001b[0m\u001b[0;34m\u001b[0m\u001b[0;34m\u001b[0m\u001b[0m\n\u001b[1;32m   1053\u001b[0m         \u001b[0mfull_backward_hooks\u001b[0m\u001b[0;34m,\u001b[0m \u001b[0mnon_full_backward_hooks\u001b[0m \u001b[0;34m=\u001b[0m \u001b[0;34m[\u001b[0m\u001b[0;34m]\u001b[0m\u001b[0;34m,\u001b[0m \u001b[0;34m[\u001b[0m\u001b[0;34m]\u001b[0m\u001b[0;34m\u001b[0m\u001b[0;34m\u001b[0m\u001b[0m\n",
      "\u001b[0;32m~/.local/lib/python3.9/site-packages/segmentation_models_pytorch/decoders/unet/decoder.py\u001b[0m in \u001b[0;36mforward\u001b[0;34m(self, x, skip)\u001b[0m\n\u001b[1;32m     39\u001b[0m             \u001b[0mx\u001b[0m \u001b[0;34m=\u001b[0m \u001b[0mself\u001b[0m\u001b[0;34m.\u001b[0m\u001b[0mattention1\u001b[0m\u001b[0;34m(\u001b[0m\u001b[0mx\u001b[0m\u001b[0;34m)\u001b[0m\u001b[0;34m\u001b[0m\u001b[0;34m\u001b[0m\u001b[0m\n\u001b[1;32m     40\u001b[0m         \u001b[0mx\u001b[0m \u001b[0;34m=\u001b[0m \u001b[0mself\u001b[0m\u001b[0;34m.\u001b[0m\u001b[0mconv1\u001b[0m\u001b[0;34m(\u001b[0m\u001b[0mx\u001b[0m\u001b[0;34m)\u001b[0m\u001b[0;34m\u001b[0m\u001b[0;34m\u001b[0m\u001b[0m\n\u001b[0;32m---> 41\u001b[0;31m         \u001b[0mx\u001b[0m \u001b[0;34m=\u001b[0m \u001b[0mself\u001b[0m\u001b[0;34m.\u001b[0m\u001b[0mconv2\u001b[0m\u001b[0;34m(\u001b[0m\u001b[0mx\u001b[0m\u001b[0;34m)\u001b[0m\u001b[0;34m\u001b[0m\u001b[0;34m\u001b[0m\u001b[0m\n\u001b[0m\u001b[1;32m     42\u001b[0m         \u001b[0mx\u001b[0m \u001b[0;34m=\u001b[0m \u001b[0mself\u001b[0m\u001b[0;34m.\u001b[0m\u001b[0mattention2\u001b[0m\u001b[0;34m(\u001b[0m\u001b[0mx\u001b[0m\u001b[0;34m)\u001b[0m\u001b[0;34m\u001b[0m\u001b[0;34m\u001b[0m\u001b[0m\n\u001b[1;32m     43\u001b[0m         \u001b[0;32mreturn\u001b[0m \u001b[0mx\u001b[0m\u001b[0;34m\u001b[0m\u001b[0;34m\u001b[0m\u001b[0m\n",
      "\u001b[0;32m/opt/conda/lib/python3.9/site-packages/torch/nn/modules/module.py\u001b[0m in \u001b[0;36m_call_impl\u001b[0;34m(self, *input, **kwargs)\u001b[0m\n\u001b[1;32m   1049\u001b[0m         if not (self._backward_hooks or self._forward_hooks or self._forward_pre_hooks or _global_backward_hooks\n\u001b[1;32m   1050\u001b[0m                 or _global_forward_hooks or _global_forward_pre_hooks):\n\u001b[0;32m-> 1051\u001b[0;31m             \u001b[0;32mreturn\u001b[0m \u001b[0mforward_call\u001b[0m\u001b[0;34m(\u001b[0m\u001b[0;34m*\u001b[0m\u001b[0minput\u001b[0m\u001b[0;34m,\u001b[0m \u001b[0;34m**\u001b[0m\u001b[0mkwargs\u001b[0m\u001b[0;34m)\u001b[0m\u001b[0;34m\u001b[0m\u001b[0;34m\u001b[0m\u001b[0m\n\u001b[0m\u001b[1;32m   1052\u001b[0m         \u001b[0;31m# Do not call functions when jit is used\u001b[0m\u001b[0;34m\u001b[0m\u001b[0;34m\u001b[0m\u001b[0;34m\u001b[0m\u001b[0m\n\u001b[1;32m   1053\u001b[0m         \u001b[0mfull_backward_hooks\u001b[0m\u001b[0;34m,\u001b[0m \u001b[0mnon_full_backward_hooks\u001b[0m \u001b[0;34m=\u001b[0m \u001b[0;34m[\u001b[0m\u001b[0;34m]\u001b[0m\u001b[0;34m,\u001b[0m \u001b[0;34m[\u001b[0m\u001b[0;34m]\u001b[0m\u001b[0;34m\u001b[0m\u001b[0;34m\u001b[0m\u001b[0m\n",
      "\u001b[0;32m/opt/conda/lib/python3.9/site-packages/torch/nn/modules/container.py\u001b[0m in \u001b[0;36mforward\u001b[0;34m(self, input)\u001b[0m\n\u001b[1;32m    137\u001b[0m     \u001b[0;32mdef\u001b[0m \u001b[0mforward\u001b[0m\u001b[0;34m(\u001b[0m\u001b[0mself\u001b[0m\u001b[0;34m,\u001b[0m \u001b[0minput\u001b[0m\u001b[0;34m)\u001b[0m\u001b[0;34m:\u001b[0m\u001b[0;34m\u001b[0m\u001b[0;34m\u001b[0m\u001b[0m\n\u001b[1;32m    138\u001b[0m         \u001b[0;32mfor\u001b[0m \u001b[0mmodule\u001b[0m \u001b[0;32min\u001b[0m \u001b[0mself\u001b[0m\u001b[0;34m:\u001b[0m\u001b[0;34m\u001b[0m\u001b[0;34m\u001b[0m\u001b[0m\n\u001b[0;32m--> 139\u001b[0;31m             \u001b[0minput\u001b[0m \u001b[0;34m=\u001b[0m \u001b[0mmodule\u001b[0m\u001b[0;34m(\u001b[0m\u001b[0minput\u001b[0m\u001b[0;34m)\u001b[0m\u001b[0;34m\u001b[0m\u001b[0;34m\u001b[0m\u001b[0m\n\u001b[0m\u001b[1;32m    140\u001b[0m         \u001b[0;32mreturn\u001b[0m \u001b[0minput\u001b[0m\u001b[0;34m\u001b[0m\u001b[0;34m\u001b[0m\u001b[0m\n\u001b[1;32m    141\u001b[0m \u001b[0;34m\u001b[0m\u001b[0m\n",
      "\u001b[0;32m/opt/conda/lib/python3.9/site-packages/torch/nn/modules/module.py\u001b[0m in \u001b[0;36m_call_impl\u001b[0;34m(self, *input, **kwargs)\u001b[0m\n\u001b[1;32m   1049\u001b[0m         if not (self._backward_hooks or self._forward_hooks or self._forward_pre_hooks or _global_backward_hooks\n\u001b[1;32m   1050\u001b[0m                 or _global_forward_hooks or _global_forward_pre_hooks):\n\u001b[0;32m-> 1051\u001b[0;31m             \u001b[0;32mreturn\u001b[0m \u001b[0mforward_call\u001b[0m\u001b[0;34m(\u001b[0m\u001b[0;34m*\u001b[0m\u001b[0minput\u001b[0m\u001b[0;34m,\u001b[0m \u001b[0;34m**\u001b[0m\u001b[0mkwargs\u001b[0m\u001b[0;34m)\u001b[0m\u001b[0;34m\u001b[0m\u001b[0;34m\u001b[0m\u001b[0m\n\u001b[0m\u001b[1;32m   1052\u001b[0m         \u001b[0;31m# Do not call functions when jit is used\u001b[0m\u001b[0;34m\u001b[0m\u001b[0;34m\u001b[0m\u001b[0;34m\u001b[0m\u001b[0m\n\u001b[1;32m   1053\u001b[0m         \u001b[0mfull_backward_hooks\u001b[0m\u001b[0;34m,\u001b[0m \u001b[0mnon_full_backward_hooks\u001b[0m \u001b[0;34m=\u001b[0m \u001b[0;34m[\u001b[0m\u001b[0;34m]\u001b[0m\u001b[0;34m,\u001b[0m \u001b[0;34m[\u001b[0m\u001b[0;34m]\u001b[0m\u001b[0;34m\u001b[0m\u001b[0;34m\u001b[0m\u001b[0m\n",
      "\u001b[0;32m/opt/conda/lib/python3.9/site-packages/torch/nn/modules/conv.py\u001b[0m in \u001b[0;36mforward\u001b[0;34m(self, input)\u001b[0m\n\u001b[1;32m    441\u001b[0m \u001b[0;34m\u001b[0m\u001b[0m\n\u001b[1;32m    442\u001b[0m     \u001b[0;32mdef\u001b[0m \u001b[0mforward\u001b[0m\u001b[0;34m(\u001b[0m\u001b[0mself\u001b[0m\u001b[0;34m,\u001b[0m \u001b[0minput\u001b[0m\u001b[0;34m:\u001b[0m \u001b[0mTensor\u001b[0m\u001b[0;34m)\u001b[0m \u001b[0;34m->\u001b[0m \u001b[0mTensor\u001b[0m\u001b[0;34m:\u001b[0m\u001b[0;34m\u001b[0m\u001b[0;34m\u001b[0m\u001b[0m\n\u001b[0;32m--> 443\u001b[0;31m         \u001b[0;32mreturn\u001b[0m \u001b[0mself\u001b[0m\u001b[0;34m.\u001b[0m\u001b[0m_conv_forward\u001b[0m\u001b[0;34m(\u001b[0m\u001b[0minput\u001b[0m\u001b[0;34m,\u001b[0m \u001b[0mself\u001b[0m\u001b[0;34m.\u001b[0m\u001b[0mweight\u001b[0m\u001b[0;34m,\u001b[0m \u001b[0mself\u001b[0m\u001b[0;34m.\u001b[0m\u001b[0mbias\u001b[0m\u001b[0;34m)\u001b[0m\u001b[0;34m\u001b[0m\u001b[0;34m\u001b[0m\u001b[0m\n\u001b[0m\u001b[1;32m    444\u001b[0m \u001b[0;34m\u001b[0m\u001b[0m\n\u001b[1;32m    445\u001b[0m \u001b[0;32mclass\u001b[0m \u001b[0mConv3d\u001b[0m\u001b[0;34m(\u001b[0m\u001b[0m_ConvNd\u001b[0m\u001b[0;34m)\u001b[0m\u001b[0;34m:\u001b[0m\u001b[0;34m\u001b[0m\u001b[0;34m\u001b[0m\u001b[0m\n",
      "\u001b[0;32m/opt/conda/lib/python3.9/site-packages/torch/nn/modules/conv.py\u001b[0m in \u001b[0;36m_conv_forward\u001b[0;34m(self, input, weight, bias)\u001b[0m\n\u001b[1;32m    437\u001b[0m                             \u001b[0mweight\u001b[0m\u001b[0;34m,\u001b[0m \u001b[0mbias\u001b[0m\u001b[0;34m,\u001b[0m \u001b[0mself\u001b[0m\u001b[0;34m.\u001b[0m\u001b[0mstride\u001b[0m\u001b[0;34m,\u001b[0m\u001b[0;34m\u001b[0m\u001b[0;34m\u001b[0m\u001b[0m\n\u001b[1;32m    438\u001b[0m                             _pair(0), self.dilation, self.groups)\n\u001b[0;32m--> 439\u001b[0;31m         return F.conv2d(input, weight, bias, self.stride,\n\u001b[0m\u001b[1;32m    440\u001b[0m                         self.padding, self.dilation, self.groups)\n\u001b[1;32m    441\u001b[0m \u001b[0;34m\u001b[0m\u001b[0m\n",
      "\u001b[0;31mRuntimeError\u001b[0m: CUDA out of memory. Tried to allocate 64.00 MiB (GPU 0; 10.76 GiB total capacity; 9.34 GiB already allocated; 21.44 MiB free; 9.40 GiB reserved in total by PyTorch)"
     ]
    }
   ],
   "source": [
    "unet_model, train_loss, val_loss, logit_mask, true_mask, ori_xray, val_dice_arr = training_seg(model = model_seg,\n",
    "                                            num_epochs = NUM_EPOCHS, batch_size = BATCH_SIZE,\n",
    "                                            learning_rate = LEARNING_RATE,\n",
    "                                            train_loader = loaders_seg[0], val_loader = loaders_seg[1])"
   ]
  },
  {
   "cell_type": "code",
   "execution_count": 19,
   "id": "e47d8dcf",
   "metadata": {},
   "outputs": [
    {
     "data": {
      "image/png": "[encoded data removed]",
      "text/plain": [
       "<Figure size 432x288 with 1 Axes>"
      ]
     },
     "metadata": {
      "image/png": {
       "height": 277,
       "width": 412
      },
      "needs_background": "light"
     },
     "output_type": "display_data"
    }
   ],
   "source": [
    "sns.lineplot(np.arange(1, 21), val_dice_arr)\n",
    "plt.title(\"Dice Coeff., Non-bi True Mask, Threshold 0.3, Resolution 512\")\n",
    "plt.xlabel('Epoch')\n",
    "plt.ylabel('Dice Coefficient')\n",
    "plt.savefig('Dice Coeff. per Image, Non-bi True Mask, Threshold 0.3, Resolution 512.png', dpi = 300)"
   ]
  },
  {
   "cell_type": "code",
   "execution_count": 77,
   "id": "26dc8f7b",
   "metadata": {},
   "outputs": [
    {
     "data": {
      "image/png": "[encoded data removed]",
      "text/plain": [
       "<Figure size 432x288 with 1 Axes>"
      ]
     },
     "metadata": {
      "image/png": {
       "height": 277,
       "width": 391
      },
      "needs_background": "light"
     },
     "output_type": "display_data"
    }
   ],
   "source": [
    "sns.lineplot(np.arange(1, 21), val_dice_epoch)\n",
    "plt.title(\"Dice Coeff. per Image, 20 Epochs, Threshold 0.3\")\n",
    "plt.xlabel('Epoch')\n",
    "plt.ylabel('Dice Coefficient')\n",
    "plt.savefig('Dice Coefficient per Image Over 20 Epochs of Segmentation Model with Threshold 0.3.png')"
   ]
  },
  {
   "cell_type": "markdown",
   "id": "d397c761",
   "metadata": {},
   "source": [
    "val_dice_epoch_bimask = [0.7796469213267898,\n",
    " 0.8212088897592371,\n",
    " 0.8295007077411394,\n",
    " 0.8323541855833925,\n",
    " 0.8370185884724045,\n",
    " 0.8362016750566373,\n",
    " 0.8320809249304167,\n",
    " 0.8241835737737015,\n",
    " 0.8191164830476185,\n",
    " 0.804849093123987,\n",
    " 0.8096617821605095,\n",
    " 0.8129138814930792,\n",
    " 0.8124474087689212,\n",
    " 0.8159639622115291,\n",
    " 0.8158723309276456,\n",
    " 0.8166636037890302,\n",
    " 0.8181208902830451,\n",
    " 0.8111776767804043,\n",
    " 0.8134409934842607,\n",
    " 0.8143519276575074]"
   ]
  },
  {
   "cell_type": "code",
   "execution_count": 56,
   "id": "25f4fd79",
   "metadata": {},
   "outputs": [
    {
     "data": {
      "text/plain": [
       "<AxesSubplot:>"
      ]
     },
     "execution_count": 56,
     "metadata": {},
     "output_type": "execute_result"
    },
    {
     "data": {
      "image/png": "[encoded data removed]",
      "text/plain": [
       "<Figure size 432x288 with 1 Axes>"
      ]
     },
     "metadata": {
      "image/png": {
       "height": 248,
       "width": 386
      },
      "needs_background": "light"
     },
     "output_type": "display_data"
    }
   ],
   "source": [
    "sns.lineplot(val_dice_arr)"
   ]
  },
  {
   "cell_type": "code",
   "execution_count": 36,
   "id": "28257a14",
   "metadata": {},
   "outputs": [
    {
     "data": {
      "text/plain": [
       "4"
      ]
     },
     "execution_count": 36,
     "metadata": {},
     "output_type": "execute_result"
    }
   ],
   "source": [
    "len(true_mask[0])"
   ]
  },
  {
   "cell_type": "code",
   "execution_count": 37,
   "id": "c302527b",
   "metadata": {},
   "outputs": [],
   "source": [
    "######### test val_dice\n",
    "pred = logit_mask[0]\n",
    "masks = true_mask[0]\n",
    "pred_bi = bi_mask(pred.detach().cpu().squeeze(), THRESHOLD)\n",
    "test_dice = []\n",
    "for i in range(4):\n",
    "    cur_dc = calculate_dc(pred_bi[i], masks[i].detach().cpu().squeeze().numpy())\n",
    "    test_dice.append(cur_dc)\n",
    "\n",
    "np.mean(test_dice)\n",
    "# cur_dc = calculate_dc(pred_bi, masks[j].detach().cpu().squeeze().numpy())\n",
    "# dc_list.append(cur_dc)\n",
    "# dc_list, avg = dice_coef_per_image(loaders_seg[2], unet_model, THRESHOLD)            \n",
    "# val_dice.append(avg)\n",
    "\n",
    "\n",
    "\n",
    "#########"
   ]
  },
  {
   "cell_type": "code",
   "execution_count": 42,
   "id": "16ebfe64",
   "metadata": {},
   "outputs": [
    {
     "data": {
      "text/plain": [
       "0.8026633466422589"
      ]
     },
     "execution_count": 42,
     "metadata": {},
     "output_type": "execute_result"
    }
   ],
   "source": [
    "test_dice = []\n",
    "for i in range(4):\n",
    "    cur_dc = calculate_dc(pred_bi[i], masks[i].detach().cpu().squeeze().numpy())\n",
    "    test_dice.append(cur_dc)\n",
    "\n",
    "np.mean(test_dice)"
   ]
  },
  {
   "cell_type": "code",
   "execution_count": 40,
   "id": "a5bba9e1",
   "metadata": {},
   "outputs": [
    {
     "data": {
      "text/plain": [
       "0.8026633466422589"
      ]
     },
     "execution_count": 40,
     "metadata": {},
     "output_type": "execute_result"
    }
   ],
   "source": [
    "np.mean(test_dice)"
   ]
  },
  {
   "cell_type": "code",
   "execution_count": 44,
   "id": "5a854cc6",
   "metadata": {},
   "outputs": [
    {
     "data": {
      "text/plain": [
       "(4, 256, 256)"
      ]
     },
     "execution_count": 44,
     "metadata": {},
     "output_type": "execute_result"
    }
   ],
   "source": [
    "masks.detach().cpu().squeeze().numpy().shape"
   ]
  },
  {
   "cell_type": "code",
   "execution_count": 25,
   "id": "5d07066c",
   "metadata": {},
   "outputs": [
    {
     "data": {
      "text/plain": [
       "1"
      ]
     },
     "execution_count": 25,
     "metadata": {},
     "output_type": "execute_result"
    }
   ],
   "source": [
    "len(logit_mask)"
   ]
  },
  {
   "cell_type": "code",
   "execution_count": 26,
   "id": "8a6e334b",
   "metadata": {},
   "outputs": [
    {
     "data": {
      "text/plain": [
       "4"
      ]
     },
     "execution_count": 26,
     "metadata": {},
     "output_type": "execute_result"
    }
   ],
   "source": [
    "len(logit_mask[0])"
   ]
  },
  {
   "cell_type": "code",
   "execution_count": 31,
   "id": "bf70b9dd",
   "metadata": {},
   "outputs": [
    {
     "data": {
      "text/plain": [
       "torch.Size([4, 256, 256])"
      ]
     },
     "execution_count": 31,
     "metadata": {},
     "output_type": "execute_result"
    }
   ],
   "source": [
    "logit_mask[0].squeeze().shape"
   ]
  },
  {
   "cell_type": "code",
   "execution_count": 33,
   "id": "d48ead49",
   "metadata": {},
   "outputs": [
    {
     "data": {
      "text/plain": [
       "tensor([[-2.2192, -3.0278, -2.8606,  ..., -2.1828, -2.5819, -1.5581],\n",
       "        [-2.7805, -4.1317, -3.9864,  ..., -3.1070, -3.7405, -2.7540],\n",
       "        [-3.3740, -4.5302, -4.1722,  ..., -3.8578, -4.3822, -2.6994],\n",
       "        ...,\n",
       "        [-2.8635, -4.0008, -3.5540,  ..., -3.1482, -3.8921, -2.5905],\n",
       "        [-2.9892, -4.3781, -4.2172,  ..., -4.0760, -3.9785, -2.9327],\n",
       "        [-1.5707, -2.1090, -2.2108,  ..., -2.2616, -1.9111, -1.3896]])"
      ]
     },
     "execution_count": 33,
     "metadata": {},
     "output_type": "execute_result"
    }
   ],
   "source": [
    "logit_mask[0][0][0]#.shape"
   ]
  },
  {
   "cell_type": "code",
   "execution_count": 34,
   "id": "82441611",
   "metadata": {},
   "outputs": [
    {
     "data": {
      "text/plain": [
       "tensor([[0., 0., 0.,  ..., 0., 0., 0.],\n",
       "        [0., 0., 0.,  ..., 0., 0., 0.],\n",
       "        [0., 0., 0.,  ..., 0., 0., 0.],\n",
       "        ...,\n",
       "        [0., 0., 0.,  ..., 0., 0., 0.],\n",
       "        [0., 0., 0.,  ..., 0., 0., 0.],\n",
       "        [0., 0., 0.,  ..., 0., 0., 0.]])"
      ]
     },
     "execution_count": 34,
     "metadata": {},
     "output_type": "execute_result"
    }
   ],
   "source": [
    "ori_xray[0][0][0]#.shape"
   ]
  },
  {
   "cell_type": "code",
   "execution_count": 51,
   "id": "3839940d",
   "metadata": {},
   "outputs": [
    {
     "data": {
      "text/plain": [
       "tensor(65536)"
      ]
     },
     "execution_count": 51,
     "metadata": {},
     "output_type": "execute_result"
    }
   ],
   "source": [
    "torch.sum(true_mask[0][0][0] == true_mask[1][0][0])"
   ]
  },
  {
   "cell_type": "code",
   "execution_count": 45,
   "id": "aca0b8c9",
   "metadata": {},
   "outputs": [
    {
     "data": {
      "text/plain": [
       "tensor([0.0000, 0.2500, 0.5000, 0.7500, 1.0000])"
      ]
     },
     "execution_count": 45,
     "metadata": {},
     "output_type": "execute_result"
    }
   ],
   "source": [
    "true_mask[0][0][0].unique()#.shape"
   ]
  },
  {
   "cell_type": "code",
   "execution_count": 18,
   "id": "6383bb3a",
   "metadata": {},
   "outputs": [],
   "source": [
    "def dice_coef_per_image(test_loader, model, sigmoid_threshold):\n",
    "    \"\"\"\n",
    "    Calculate dice coefficient from a test set. Based on the average of each dice coefficient.\n",
    "    Return a list \n",
    "    \"\"\"\n",
    "    dc_list = []\n",
    "    total_num_batch = 0\n",
    "    for i, (imgs, masks) in enumerate(test_loader):\n",
    "        total_num_batch += 1\n",
    "        imgs, masks = imgs.to(DEVICE, dtype=torch.float), masks.to(DEVICE, dtype=torch.float)\n",
    "        preds = model(imgs)\n",
    "        for j in range(BATCH_SIZE):\n",
    "            pred = preds[j].detach().cpu().squeeze()\n",
    "            pred_bi = bi_mask(pred, sigmoid_threshold)\n",
    "            cur_dc = calculate_dc(pred_bi, masks[j].detach().cpu().squeeze().numpy())\n",
    "            dc_list.append(cur_dc)\n",
    "    print('Total Number of Batch Size: ', total_num_batch)\n",
    "    return dc_list, np.mean(dc_list)"
   ]
  },
  {
   "cell_type": "code",
   "execution_count": 20,
   "id": "44eb304a",
   "metadata": {},
   "outputs": [
    {
     "name": "stderr",
     "output_type": "stream",
     "text": [
      "[W pthreadpool-cpp.cc:90] Warning: Leaking Caffe2 thread-pool after fork. (function pthreadpool)\n",
      "[W pthreadpool-cpp.cc:90] Warning: Leaking Caffe2 thread-pool after fork. (function pthreadpool)\n",
      "[W pthreadpool-cpp.cc:90] Warning: Leaking Caffe2 thread-pool after fork. (function pthreadpool)\n",
      "[W pthreadpool-cpp.cc:90] Warning: Leaking Caffe2 thread-pool after fork. (function pthreadpool)\n"
     ]
    },
    {
     "name": "stdout",
     "output_type": "stream",
     "text": [
      "Total Number of Batch Size:  480\n",
      "0.7308782676969928\n"
     ]
    }
   ],
   "source": [
    "dc_list, avg = dice_coef_per_image(loaders_seg[2], unet_model, 0.3)\n",
    "print(avg)"
   ]
  },
  {
   "cell_type": "markdown",
   "id": "cf743807",
   "metadata": {},
   "source": [
    "dice_avg_1_nonbi = 0.8723006845597181\n",
    "\n",
    "dice_avg_2_nonbi = 0.8662950791858317\n",
    "\n",
    "dice_epoch3_bimask = 0.7308782676969928\n",
    "\n",
    "dice_epoch20_bimask = ?"
   ]
  },
  {
   "cell_type": "markdown",
   "id": "e12b1d10",
   "metadata": {},
   "source": [
    "<hr>"
   ]
  },
  {
   "cell_type": "markdown",
   "id": "f81f8d92",
   "metadata": {},
   "source": [
    "- get the model and run on all three datasets\n",
    "    - logit_mask \n",
    "    - ori_xray - save the XRay_Path?\n",
    "    - label ([0, 1] or [1, 0])  -- [['Yes_Pneumothorax', 'No_Pneumothorax']]\n",
    "- get three new csv\n",
    "- create new datasets & dataloader\n",
    "- feed into the classification model\n"
   ]
  },
  {
   "cell_type": "markdown",
   "id": "50fb3dd8",
   "metadata": {},
   "source": [
    "<hr>"
   ]
  },
  {
   "cell_type": "code",
   "execution_count": null,
   "id": "15701153",
   "metadata": {},
   "outputs": [],
   "source": [
    "class CANDID_PTX(Dataset):\n",
    "    def __init__(self, df, resolution, model_type):\n",
    "        self.img_paths = df['XRay_Path'].values\n",
    "        self.mask_paths = df['Mask_Path'].values\n",
    "        self.labels = torch.tensor(df[['Yes_Pneumothorax', 'No_Pneumothorax']].values, dtype=torch.float32)\n",
    "    \n",
    "        self.resolution = resolution\n",
    "        \n",
    "        # model_type: 'C' for Classification, 'S' for Segmentation\n",
    "        self.model_type = model_type\n",
    "                  \n",
    "        return\n",
    "            \n",
    "    \n",
    "    def __len__(self):\n",
    "        \n",
    "        return self.img_paths.shape[0]\n",
    "    \n",
    "    \n",
    "    def __getitem__(self, idx):\n",
    "        img_path = self.img_paths[idx]\n",
    "        img = dicom.dcmread(img_path).pixel_array\n",
    "        img_min = np.min(img)\n",
    "        img_max = np.max(img)\n",
    "        img_norm = (img - img_min) / (img_max - img_min)\n",
    "        img_norm = cv2.resize(img_norm, (self.resolution, self.resolution))\n",
    "        img_norm = torch.tensor(img_norm).expand(3, self.resolution, self.resolution)\n",
    "        \n",
    "        if self.model_type == 'C':\n",
    "            label = self.labels[idx]\n",
    "            \n",
    "            return img_norm, label\n",
    "        \n",
    "        elif self.model_type == 'S':\n",
    "            mask_path = self.mask_paths[idx]\n",
    "            mask = plt.imread(mask_path)[:, :, 0]\n",
    "            mask = cv2.resize(mask, (self.resolution, self.resolution))\n",
    "            mask = torch.tensor(mask).expand(1, self.resolution, self.resolution) \n",
    "\n",
    "            return img_norm, mask"
   ]
  },
  {
   "cell_type": "code",
   "execution_count": null,
   "id": "f9f835df",
   "metadata": {},
   "outputs": [],
   "source": []
  },
  {
   "cell_type": "code",
   "execution_count": null,
   "id": "a30fc4d3",
   "metadata": {},
   "outputs": [],
   "source": [
    "def training_class(model, num_epochs, batch_size, learning_rate, \n",
    "                    train_loader, val_loader):\n",
    "    \n",
    "    model.to(DEVICE)\n",
    "    \n",
    "    all_train_loss = []\n",
    "    all_val_loss = []\n",
    "#     all_preds = []\n",
    "#     all_masks = []\n",
    "#     all_xray = []\n",
    "    \n",
    "    optimizer = Adam(model.parameters(), lr=learning_rate)\n",
    "    loss_fn = torch.nn.BCEWithLogitsLoss()\n",
    "    scaler = torch.cuda.amp.GradScaler()\n",
    "    \n",
    "    for epoch in tqdm(range(num_epochs)):\n",
    "        total_train_loss = 0\n",
    "        batch_num = 0\n",
    "        model.train()\n",
    "        \n",
    "        for i, (imgs, labels) in enumerate(train_loader):\n",
    "            batch_num += 1\n",
    "            \n",
    "            imgs, labels = imgs.to(DEVICE, dtype=torch.float), labels.to(DEVICE, dtype=torch.float)\n",
    "            \n",
    "            optimizer.zero_grad()\n",
    "            preds = model(imgs)\n",
    "            \n",
    "            \n",
    "            if (i == 0) & (epoch == 0):\n",
    "                print(preds)\n",
    "                print(labels)\n",
    "#             print(preds.size())\n",
    "#             print(masks.size())\n",
    "\n",
    "            \n",
    "            loss = loss_fn(preds, labels)\n",
    "    \n",
    "            loss.backward()\n",
    "            optimizer.step()\n",
    "            \n",
    "            \n",
    "#             with torch.cuda.amp.autocast():\n",
    "#                 preds = model(imgs)\n",
    "#                 if i == 0:\n",
    "#                     all_preds.append(preds.detach().cpu())\n",
    "#                 loss = loss_fn(preds, masks)\n",
    "                        \n",
    "#             optimizer.zero_grad()\n",
    "#             scaler.scale(loss).backward()\n",
    "#             scaler.step(optimizer)\n",
    "#             scaler.update()\n",
    "            \n",
    "            total_train_loss += float(loss)\n",
    "            \n",
    "            \n",
    "        if epoch == 0:\n",
    "            print(\"Total # of training batch: \", i + 1)\n",
    "\n",
    "        all_train_loss.append(total_train_loss / batch_num)\n",
    "            \n",
    "            \n",
    "    ## validation set\n",
    "        batch_num = 0\n",
    "        total_val_loss = 0\n",
    "        model.eval()\n",
    "        \n",
    "        for i, (imgs, labels) in enumerate(val_loader):\n",
    "            batch_num += 1\n",
    "            \n",
    "            imgs, labels = imgs.to(DEVICE, dtype=torch.float), labels.to(DEVICE, dtype=torch.float)\n",
    "            \n",
    "            preds = model(imgs)\n",
    "            \n",
    "            loss = loss_fn(preds, labels) # is this mean or sum?\n",
    "\n",
    "            total_val_loss += float(loss) # accumulate the total loss for this epoch.\n",
    "            \n",
    "#             if i == 1:\n",
    "#                 all_preds.append(preds.detach().cpu())\n",
    "#                 all_masks.append(masks.detach().cpu())\n",
    "#                 all_xray.append(imgs.detach().cpu())\n",
    "            \n",
    "        if epoch == 0:\n",
    "            print(\"Total # of validation batch: \", i + 1)\n",
    "\n",
    "        all_val_loss.append(total_val_loss / batch_num)\n",
    "        \n",
    "    \n",
    "    #plot_both_loss(all_train_loss, all_val_loss)\n",
    "        \n",
    "    return model, all_train_loss, all_val_loss#, all_preds, all_masks, all_xray"
   ]
  },
  {
   "cell_type": "code",
   "execution_count": null,
   "id": "8cb3db64",
   "metadata": {},
   "outputs": [],
   "source": [
    "model_class = resnet34()"
   ]
  },
  {
   "cell_type": "code",
   "execution_count": 30,
   "id": "cb53a98d",
   "metadata": {},
   "outputs": [
    {
     "ename": "NameError",
     "evalue": "name 'training' is not defined",
     "output_type": "error",
     "traceback": [
      "\u001b[0;31m---------------------------------------------------------------------------\u001b[0m",
      "\u001b[0;31mNameError\u001b[0m                                 Traceback (most recent call last)",
      "\u001b[0;32m/tmp/ipykernel_148/1612866384.py\u001b[0m in \u001b[0;36m<module>\u001b[0;34m\u001b[0m\n\u001b[0;32m----> 1\u001b[0;31m resnet_model, train_loss, val_loss = training(model = model_class,\n\u001b[0m\u001b[1;32m      2\u001b[0m                                             \u001b[0mnum_epochs\u001b[0m \u001b[0;34m=\u001b[0m \u001b[0mNUM_EPOCHS\u001b[0m\u001b[0;34m,\u001b[0m \u001b[0mbatch_size\u001b[0m \u001b[0;34m=\u001b[0m \u001b[0mBATCH_SIZE\u001b[0m\u001b[0;34m,\u001b[0m\u001b[0;34m\u001b[0m\u001b[0;34m\u001b[0m\u001b[0m\n\u001b[1;32m      3\u001b[0m                                             \u001b[0mlearning_rate\u001b[0m \u001b[0;34m=\u001b[0m \u001b[0mLEARNING_RATE\u001b[0m\u001b[0;34m,\u001b[0m\u001b[0;34m\u001b[0m\u001b[0;34m\u001b[0m\u001b[0m\n\u001b[1;32m      4\u001b[0m                                             train_loader = loaders_seg[0], val_loader = loaders_seg[1])\n",
      "\u001b[0;31mNameError\u001b[0m: name 'training' is not defined"
     ]
    }
   ],
   "source": [
    "resnet_model, train_loss, val_loss = training(model = model_class,\n",
    "                                            num_epochs = NUM_EPOCHS, batch_size = BATCH_SIZE,\n",
    "                                            learning_rate = LEARNING_RATE,\n",
    "                                            train_loader = loaders_class[0], val_loader = loaders_class[1])"
   ]
  },
  {
   "cell_type": "code",
   "execution_count": null,
   "id": "a9b0d0f9",
   "metadata": {},
   "outputs": [],
   "source": [
    "def plot_both_loss(all_train_loss, all_val_loss, model_name, resolution):\n",
    "    plt.figure(figsize=(20, 10))\n",
    "    sns.set(style=\"whitegrid\")\n",
    "    epoch_num = len(all_train_loss)\n",
    "    df = pd.DataFrame({'x':range(epoch_num),\n",
    "                    'train_loss':all_train_loss,\n",
    "                      'val_loss':all_val_loss})\n",
    "    df = df.set_index('x')\n",
    "    \n",
    "    train_val_loss = sns.lineplot(data=df, linewidth=2.5)\n",
    "\n",
    "    ## now label the y- and x-axes.\n",
    "    plt.ylabel('BCE Loss')\n",
    "    plt.xlabel('Epoch Number')\n",
    "    plt.title('BCE Loss of {} with resolution {}'.format(model_name, resolution))\n",
    "    plt.show()\n",
    "    \n",
    "    fig = train_val_loss.get_figure()\n",
    "    #fig.save('train_val_loss.png')"
   ]
  },
  {
   "cell_type": "code",
   "execution_count": null,
   "id": "bcb7499e",
   "metadata": {},
   "outputs": [],
   "source": [
    "plot_both_loss(train_loss, val_loss, 'resnet34+unet', str(RESOLUTION))"
   ]
  }
 ],
 "metadata": {
  "kernelspec": {
   "display_name": "Python 3 (clean)",
   "language": "python",
   "name": "python3_clean"
  },
  "language_info": {
   "codemirror_mode": {
    "name": "ipython",
    "version": 3
   },
   "file_extension": ".py",
   "mimetype": "text/x-python",
   "name": "python",
   "nbconvert_exporter": "python",
   "pygments_lexer": "ipython3",
   "version": "3.9.5"
  }
 },
 "nbformat": 4,
 "nbformat_minor": 5
}
