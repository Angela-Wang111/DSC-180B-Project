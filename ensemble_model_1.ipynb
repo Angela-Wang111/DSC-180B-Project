{
 "cells": [
  {
   "cell_type": "code",
   "execution_count": 3,
   "id": "8937dfec",
   "metadata": {},
   "outputs": [],
   "source": [
    "#pip install torchsampler"
   ]
  },
  {
   "cell_type": "markdown",
   "id": "09a82fd3",
   "metadata": {},
   "source": [
    "<hr>"
   ]
  },
  {
   "cell_type": "markdown",
   "id": "aec4f895",
   "metadata": {},
   "source": [
    "<hr>"
   ]
  },
  {
   "cell_type": "code",
   "execution_count": 2,
   "id": "111bb615",
   "metadata": {},
   "outputs": [],
   "source": [
    "%config InlineBackend.figure_format = 'retina' # For high-resolution.\n",
    "import pandas as pd\n",
    "import numpy as np\n",
    "import pydicom as dicom\n",
    "import matplotlib.pyplot as plt\n",
    "import matplotlib.cm as cm\n",
    "import seaborn as sns\n",
    "import os\n",
    "\n",
    "import torch \n",
    "from torch import Tensor\n",
    "import torch.nn as nn\n",
    "from torch.utils.data import Dataset\n",
    "from torch.utils.data import DataLoader\n",
    "from torchvision import transforms, models\n",
    "from torch.optim import Adam\n",
    "\n",
    "\n",
    "import cv2\n",
    "from tqdm.notebook import tqdm\n",
    "\n",
    "\n",
    "import warnings\n",
    "warnings.filterwarnings('ignore')\n",
    "\n",
    "import segmentation_models_pytorch as smp\n",
    "from torchsampler import ImbalancedDatasetSampler\n",
    "\n",
    "\n",
    "from sklearn.metrics import roc_curve\n",
    "from sklearn.metrics import roc_auc_score\n",
    "from scipy.stats import pearsonr\n",
    "from sklearn.metrics import confusion_matrix"
   ]
  },
  {
   "cell_type": "code",
   "execution_count": 3,
   "id": "bce510ee",
   "metadata": {},
   "outputs": [
    {
     "name": "stdout",
     "output_type": "stream",
     "text": [
      "cuda\n",
      "1\n"
     ]
    }
   ],
   "source": [
    "## Hyperparameters\n",
    "DEVICE = torch.device(\"cuda\" if torch.cuda.is_available() else \"cpu\")\n",
    "print(DEVICE)\n",
    "print(torch.cuda.device_count())\n",
    "\n",
    "RESOLUTION = 256\n",
    "BATCH_SIZE = 4\n",
    "NUM_WORKERS = 4\n",
    "PIN_MEMORY = True\n",
    "DROP_LAST = True\n",
    "\n",
    "LEARNING_RATE = 1e-4\n",
    "NUM_EPOCHS = 3\n",
    "\n",
    "THRESHOLD = 0.3\n",
    "# MIN_ACTIVATION_SIZE = \n"
   ]
  },
  {
   "cell_type": "code",
   "execution_count": 4,
   "id": "61aec0c8",
   "metadata": {},
   "outputs": [],
   "source": [
    "def read_df(df_type):\n",
    "    username = os.getcwd().split('/')[2]\n",
    "    df_path = '/home/{}/teams/dsc-180a---a14-[88137]/CANDID_PTX_csv/{}.csv'.format(username, df_type)\n",
    "    df = pd.read_csv(df_path)[['Mask_Path', 'XRay_Path']]\n",
    "    df['Mask_Path'] = df['Mask_Path'].str.replace('anw008', username)\n",
    "    df['XRay_Path'] = df['XRay_Path'].str.replace('anw008', username)\n",
    "    df['No_Pneumothorax'] = df['Mask_Path'].str.contains('negative_mask').astype(int)\n",
    "    df['Yes_Pneumothorax'] = 1 - df['No_Pneumothorax']\n",
    "    \n",
    "    \n",
    "    return df"
   ]
  },
  {
   "cell_type": "code",
   "execution_count": 5,
   "id": "4f2c008d",
   "metadata": {},
   "outputs": [],
   "source": [
    "train_df = read_df('train')\n",
    "val_df = read_df('validation')\n",
    "test_df = read_df('test')"
   ]
  },
  {
   "cell_type": "code",
   "execution_count": 94,
   "id": "82f2483c",
   "metadata": {},
   "outputs": [
    {
     "data": {
      "text/plain": [
       "array([0., 1.], dtype=float32)"
      ]
     },
     "execution_count": 94,
     "metadata": {},
     "output_type": "execute_result"
    }
   ],
   "source": [
    "mask_path = val_df.iloc[4, 0]\n",
    "mask_one = plt.imread(mask_path)[:, :, 0]\n",
    "np.unique(mask_one)"
   ]
  },
  {
   "cell_type": "code",
   "execution_count": 95,
   "id": "0ef72c8f",
   "metadata": {},
   "outputs": [
    {
     "name": "stdout",
     "output_type": "stream",
     "text": [
      "[0.   0.25 0.5  0.75 1.  ]\n"
     ]
    },
    {
     "data": {
      "text/plain": [
       "<matplotlib.image.AxesImage at 0x7fdc7f36a3a0>"
      ]
     },
     "execution_count": 95,
     "metadata": {},
     "output_type": "execute_result"
    },
    {
     "data": {
      "image/png": "[encoded data removed]",
      "text/plain": [
       "<Figure size 432x288 with 1 Axes>"
      ]
     },
     "metadata": {
      "image/png": {
       "height": 251,
       "width": 262
      },
      "needs_background": "light"
     },
     "output_type": "display_data"
    }
   ],
   "source": [
    "resize_mask = cv2.resize(mask_one, (256, 256))\n",
    "print(np.unique(resize_mask))\n",
    "plt.imshow(resize_mask, cmap='gray')"
   ]
  },
  {
   "cell_type": "code",
   "execution_count": 96,
   "id": "a18d1707",
   "metadata": {},
   "outputs": [
    {
     "data": {
      "text/plain": [
       "array([0, 1])"
      ]
     },
     "execution_count": 96,
     "metadata": {},
     "output_type": "execute_result"
    }
   ],
   "source": [
    "np.unique(np.where(resize_mask < 0.5, 0, 1))"
   ]
  },
  {
   "cell_type": "code",
   "execution_count": 92,
   "id": "6af47b2d",
   "metadata": {},
   "outputs": [
    {
     "data": {
      "text/plain": [
       "<matplotlib.image.AxesImage at 0x7fdc7f41fd00>"
      ]
     },
     "execution_count": 92,
     "metadata": {},
     "output_type": "execute_result"
    },
    {
     "data": {
      "image/png": "[encoded data removed]",
      "text/plain": [
       "<Figure size 432x288 with 1 Axes>"
      ]
     },
     "metadata": {
      "image/png": {
       "height": 251,
       "width": 272
      },
      "needs_background": "light"
     },
     "output_type": "display_data"
    }
   ],
   "source": [
    "plt.imshow(mask_one, cmap='gray')"
   ]
  },
  {
   "cell_type": "code",
   "execution_count": 97,
   "id": "85a57e99",
   "metadata": {},
   "outputs": [],
   "source": [
    "class CANDID_PTX(Dataset):\n",
    "    def __init__(self, df, resolution, model_type):\n",
    "        self.img_paths = df['XRay_Path'].values\n",
    "        self.mask_paths = df['Mask_Path'].values\n",
    "        self.labels = torch.tensor(df[['Yes_Pneumothorax', 'No_Pneumothorax']].values, dtype=torch.float32)\n",
    "    \n",
    "        self.resolution = resolution\n",
    "        \n",
    "        # model_type: 'C' for Classification, 'S' for Segmentation\n",
    "        self.model_type = model_type\n",
    "              \n",
    "        return\n",
    "            \n",
    "    \n",
    "    def __len__(self):\n",
    "        \n",
    "        return self.img_paths.shape[0]\n",
    "    \n",
    "    \n",
    "    def __getitem__(self, idx):\n",
    "        img_path = self.img_paths[idx]\n",
    "        img = dicom.dcmread(img_path).pixel_array\n",
    "        img_min = np.min(img)\n",
    "        img_max = np.max(img)\n",
    "        img_norm = (img - img_min) / (img_max - img_min)\n",
    "        img_norm = cv2.resize(img_norm, (self.resolution, self.resolution))\n",
    "        img_norm = torch.tensor(img_norm).expand(3, self.resolution, self.resolution)\n",
    "        \n",
    "        if self.model_type == 'C':\n",
    "            label = self.labels[idx]\n",
    "            \n",
    "            return img_norm, label\n",
    "        \n",
    "        elif self.model_type == 'S':\n",
    "            mask_path = self.mask_paths[idx]\n",
    "            mask = plt.imread(mask_path)[:, :, 0]\n",
    "            mask = cv2.resize(mask, (self.resolution, self.resolution))\n",
    "            mask = np.where(mask < 0.5, 0, 1)\n",
    "            mask = torch.tensor(mask).expand(1, self.resolution, self.resolution) \n",
    "\n",
    "            return img_norm, mask"
   ]
  },
  {
   "cell_type": "code",
   "execution_count": 7,
   "id": "eda27926",
   "metadata": {},
   "outputs": [],
   "source": [
    "def create_loaders(model_type):\n",
    "    train_ds = CANDID_PTX(train_df, RESOLUTION, model_type)\n",
    "    val_ds = CANDID_PTX(val_df, RESOLUTION, model_type)\n",
    "    test_ds = CANDID_PTX(test_df, RESOLUTION, model_type)\n",
    "    \n",
    "    train_loader = DataLoader(train_ds, batch_size = BATCH_SIZE, num_workers = NUM_WORKERS, \n",
    "                          pin_memory = PIN_MEMORY, drop_last = DROP_LAST, shuffle = True)\n",
    "\n",
    "    val_loader = DataLoader(val_ds, batch_size = BATCH_SIZE, num_workers = NUM_WORKERS, \n",
    "                              pin_memory = PIN_MEMORY, drop_last = DROP_LAST, shuffle = False)\n",
    "\n",
    "    test_loader = DataLoader(test_ds, batch_size = BATCH_SIZE, num_workers = NUM_WORKERS, \n",
    "                              pin_memory = PIN_MEMORY, drop_last = DROP_LAST, shuffle = False)\n",
    "    \n",
    "    \n",
    "    return train_loader, val_loader, test_loader"
   ]
  },
  {
   "cell_type": "code",
   "execution_count": 8,
   "id": "9f18d7e1",
   "metadata": {},
   "outputs": [],
   "source": [
    "# ### Create Dataset\n",
    "# train_ds = CANDID_PTX(train_df, RESOLUTION, 'C')\n",
    "# # new_train_ds = CANDID_PTX(new_train_df, RESOLUTION, 'C')\n",
    "# val_ds = CANDID_PTX(val_df, RESOLUTION, 'C')\n",
    "# test_ds = CANDID_PTX(test_df, RESOLUTION, 'C')\n",
    "\n",
    "# ### Create Dataloader\n",
    "# train_loader = DataLoader(train_ds, batch_size = BATCH_SIZE, num_workers = NUM_WORKERS, \n",
    "#                           pin_memory = PIN_MEMORY, drop_last = DROP_LAST, shuffle = True)\n",
    "\n",
    "# val_loader = DataLoader(val_ds, batch_size = BATCH_SIZE, num_workers = NUM_WORKERS, \n",
    "#                           pin_memory = PIN_MEMORY, drop_last = DROP_LAST, shuffle = False)\n",
    "\n",
    "# test_loader = DataLoader(test_ds, batch_size = BATCH_SIZE, num_workers = NUM_WORKERS, \n",
    "#                           pin_memory = PIN_MEMORY, drop_last = DROP_LAST, shuffle = False)\n",
    "\n",
    "\n",
    "# # new_train_loader = DataLoader(\n",
    "# #     new_train_ds,\n",
    "# #     sampler=ImbalancedDatasetSampler(new_train_ds),\n",
    "# #     batch_size = BATCH_SIZE, num_workers = NUM_WORKERS, \n",
    "# #     pin_memory = PIN_MEMORY, drop_last = DROP_LAST, shuffle = Trues\n",
    "# # )"
   ]
  },
  {
   "cell_type": "code",
   "execution_count": 9,
   "id": "ba01d87f",
   "metadata": {},
   "outputs": [],
   "source": [
    "loaders_seg = create_loaders('S')\n"
   ]
  },
  {
   "cell_type": "code",
   "execution_count": 83,
   "id": "32a9659a",
   "metadata": {},
   "outputs": [
    {
     "data": {
      "text/html": [
       "<div>\n",
       "<style scoped>\n",
       "    .dataframe tbody tr th:only-of-type {\n",
       "        vertical-align: middle;\n",
       "    }\n",
       "\n",
       "    .dataframe tbody tr th {\n",
       "        vertical-align: top;\n",
       "    }\n",
       "\n",
       "    .dataframe thead th {\n",
       "        text-align: right;\n",
       "    }\n",
       "</style>\n",
       "<table border=\"1\" class=\"dataframe\">\n",
       "  <thead>\n",
       "    <tr style=\"text-align: right;\">\n",
       "      <th></th>\n",
       "      <th>Mask_Path</th>\n",
       "      <th>XRay_Path</th>\n",
       "      <th>No_Pneumothorax</th>\n",
       "      <th>Yes_Pneumothorax</th>\n",
       "    </tr>\n",
       "  </thead>\n",
       "  <tbody>\n",
       "    <tr>\n",
       "      <th>5</th>\n",
       "      <td>/home/mel011/teams/dsc-180a---a14-[88137]/CAND...</td>\n",
       "      <td>/home/mel011/teams/dsc-180a---a14-[88137]/CAND...</td>\n",
       "      <td>0</td>\n",
       "      <td>1</td>\n",
       "    </tr>\n",
       "    <tr>\n",
       "      <th>26</th>\n",
       "      <td>/home/mel011/teams/dsc-180a---a14-[88137]/CAND...</td>\n",
       "      <td>/home/mel011/teams/dsc-180a---a14-[88137]/CAND...</td>\n",
       "      <td>0</td>\n",
       "      <td>1</td>\n",
       "    </tr>\n",
       "    <tr>\n",
       "      <th>28</th>\n",
       "      <td>/home/mel011/teams/dsc-180a---a14-[88137]/CAND...</td>\n",
       "      <td>/home/mel011/teams/dsc-180a---a14-[88137]/CAND...</td>\n",
       "      <td>0</td>\n",
       "      <td>1</td>\n",
       "    </tr>\n",
       "    <tr>\n",
       "      <th>43</th>\n",
       "      <td>/home/mel011/teams/dsc-180a---a14-[88137]/CAND...</td>\n",
       "      <td>/home/mel011/teams/dsc-180a---a14-[88137]/CAND...</td>\n",
       "      <td>0</td>\n",
       "      <td>1</td>\n",
       "    </tr>\n",
       "    <tr>\n",
       "      <th>50</th>\n",
       "      <td>/home/mel011/teams/dsc-180a---a14-[88137]/CAND...</td>\n",
       "      <td>/home/mel011/teams/dsc-180a---a14-[88137]/CAND...</td>\n",
       "      <td>0</td>\n",
       "      <td>1</td>\n",
       "    </tr>\n",
       "    <tr>\n",
       "      <th>...</th>\n",
       "      <td>...</td>\n",
       "      <td>...</td>\n",
       "      <td>...</td>\n",
       "      <td>...</td>\n",
       "    </tr>\n",
       "    <tr>\n",
       "      <th>1899</th>\n",
       "      <td>/home/mel011/teams/dsc-180a---a14-[88137]/CAND...</td>\n",
       "      <td>/home/mel011/teams/dsc-180a---a14-[88137]/CAND...</td>\n",
       "      <td>0</td>\n",
       "      <td>1</td>\n",
       "    </tr>\n",
       "    <tr>\n",
       "      <th>1901</th>\n",
       "      <td>/home/mel011/teams/dsc-180a---a14-[88137]/CAND...</td>\n",
       "      <td>/home/mel011/teams/dsc-180a---a14-[88137]/CAND...</td>\n",
       "      <td>0</td>\n",
       "      <td>1</td>\n",
       "    </tr>\n",
       "    <tr>\n",
       "      <th>1909</th>\n",
       "      <td>/home/mel011/teams/dsc-180a---a14-[88137]/CAND...</td>\n",
       "      <td>/home/mel011/teams/dsc-180a---a14-[88137]/CAND...</td>\n",
       "      <td>0</td>\n",
       "      <td>1</td>\n",
       "    </tr>\n",
       "    <tr>\n",
       "      <th>1911</th>\n",
       "      <td>/home/mel011/teams/dsc-180a---a14-[88137]/CAND...</td>\n",
       "      <td>/home/mel011/teams/dsc-180a---a14-[88137]/CAND...</td>\n",
       "      <td>0</td>\n",
       "      <td>1</td>\n",
       "    </tr>\n",
       "    <tr>\n",
       "      <th>1919</th>\n",
       "      <td>/home/mel011/teams/dsc-180a---a14-[88137]/CAND...</td>\n",
       "      <td>/home/mel011/teams/dsc-180a---a14-[88137]/CAND...</td>\n",
       "      <td>0</td>\n",
       "      <td>1</td>\n",
       "    </tr>\n",
       "  </tbody>\n",
       "</table>\n",
       "<p>320 rows × 4 columns</p>\n",
       "</div>"
      ],
      "text/plain": [
       "                                              Mask_Path  \\\n",
       "5     /home/mel011/teams/dsc-180a---a14-[88137]/CAND...   \n",
       "26    /home/mel011/teams/dsc-180a---a14-[88137]/CAND...   \n",
       "28    /home/mel011/teams/dsc-180a---a14-[88137]/CAND...   \n",
       "43    /home/mel011/teams/dsc-180a---a14-[88137]/CAND...   \n",
       "50    /home/mel011/teams/dsc-180a---a14-[88137]/CAND...   \n",
       "...                                                 ...   \n",
       "1899  /home/mel011/teams/dsc-180a---a14-[88137]/CAND...   \n",
       "1901  /home/mel011/teams/dsc-180a---a14-[88137]/CAND...   \n",
       "1909  /home/mel011/teams/dsc-180a---a14-[88137]/CAND...   \n",
       "1911  /home/mel011/teams/dsc-180a---a14-[88137]/CAND...   \n",
       "1919  /home/mel011/teams/dsc-180a---a14-[88137]/CAND...   \n",
       "\n",
       "                                              XRay_Path  No_Pneumothorax  \\\n",
       "5     /home/mel011/teams/dsc-180a---a14-[88137]/CAND...                0   \n",
       "26    /home/mel011/teams/dsc-180a---a14-[88137]/CAND...                0   \n",
       "28    /home/mel011/teams/dsc-180a---a14-[88137]/CAND...                0   \n",
       "43    /home/mel011/teams/dsc-180a---a14-[88137]/CAND...                0   \n",
       "50    /home/mel011/teams/dsc-180a---a14-[88137]/CAND...                0   \n",
       "...                                                 ...              ...   \n",
       "1899  /home/mel011/teams/dsc-180a---a14-[88137]/CAND...                0   \n",
       "1901  /home/mel011/teams/dsc-180a---a14-[88137]/CAND...                0   \n",
       "1909  /home/mel011/teams/dsc-180a---a14-[88137]/CAND...                0   \n",
       "1911  /home/mel011/teams/dsc-180a---a14-[88137]/CAND...                0   \n",
       "1919  /home/mel011/teams/dsc-180a---a14-[88137]/CAND...                0   \n",
       "\n",
       "      Yes_Pneumothorax  \n",
       "5                    1  \n",
       "26                   1  \n",
       "28                   1  \n",
       "43                   1  \n",
       "50                   1  \n",
       "...                ...  \n",
       "1899                 1  \n",
       "1901                 1  \n",
       "1909                 1  \n",
       "1911                 1  \n",
       "1919                 1  \n",
       "\n",
       "[320 rows x 4 columns]"
      ]
     },
     "execution_count": 83,
     "metadata": {},
     "output_type": "execute_result"
    }
   ],
   "source": [
    "test_df[test_df['Yes_Pneumothorax'] == 1].lo"
   ]
  },
  {
   "cell_type": "code",
   "execution_count": 62,
   "id": "0a40861b",
   "metadata": {},
   "outputs": [
    {
     "data": {
      "text/plain": [
       "<torch.utils.data.dataloader.DataLoader at 0x7fdcdc6dd1c0>"
      ]
     },
     "execution_count": 62,
     "metadata": {},
     "output_type": "execute_result"
    }
   ],
   "source": [
    "loaders_seg[1]"
   ]
  },
  {
   "cell_type": "code",
   "execution_count": 79,
   "id": "44629c85",
   "metadata": {},
   "outputs": [
    {
     "data": {
      "text/plain": [
       "tensor(1841)"
      ]
     },
     "execution_count": 79,
     "metadata": {},
     "output_type": "execute_result"
    }
   ],
   "source": [
    "(sample_1[1][0] != sample_2[1][0])[0].sum()"
   ]
  },
  {
   "cell_type": "code",
   "execution_count": 81,
   "id": "761b9e1d",
   "metadata": {},
   "outputs": [
    {
     "data": {
      "text/plain": [
       "tensor([0.0000, 0.2500, 0.5000, 0.7500, 1.0000])"
      ]
     },
     "execution_count": 81,
     "metadata": {},
     "output_type": "execute_result"
    }
   ],
   "source": [
    "sample_2[1][0].unique()"
   ]
  },
  {
   "cell_type": "code",
   "execution_count": 64,
   "id": "f0c5a400",
   "metadata": {},
   "outputs": [
    {
     "name": "stderr",
     "output_type": "stream",
     "text": [
      "[W pthreadpool-cpp.cc:90] Warning: Leaking Caffe2 thread-pool after fork. (function pthreadpool)\n",
      "[W pthreadpool-cpp.cc:90] Warning: Leaking Caffe2 thread-pool after fork. (function pthreadpool)\n",
      "[W pthreadpool-cpp.cc:90] Warning: Leaking Caffe2 thread-pool after fork. (function pthreadpool)\n",
      "[W pthreadpool-cpp.cc:90] Warning: Leaking Caffe2 thread-pool after fork. (function pthreadpool)\n"
     ]
    },
    {
     "name": "stdout",
     "output_type": "stream",
     "text": [
      "--Check length of first batch, should be 2\n",
      "2\n",
      "--Check size of input images of first batch, should be ([4, 3, 256, 256])\n",
      "torch.Size([4, 3, 256, 256])\n",
      "tensor([[[0., 0., 0.,  ..., 0., 0., 0.],\n",
      "         [0., 0., 0.,  ..., 0., 0., 0.],\n",
      "         [0., 0., 0.,  ..., 0., 0., 0.],\n",
      "         ...,\n",
      "         [0., 0., 0.,  ..., 0., 0., 0.],\n",
      "         [0., 0., 0.,  ..., 0., 0., 0.],\n",
      "         [0., 0., 0.,  ..., 0., 0., 0.]],\n",
      "\n",
      "        [[0., 0., 0.,  ..., 0., 0., 0.],\n",
      "         [0., 0., 0.,  ..., 0., 0., 0.],\n",
      "         [0., 0., 0.,  ..., 0., 0., 0.],\n",
      "         ...,\n",
      "         [0., 0., 0.,  ..., 0., 0., 0.],\n",
      "         [0., 0., 0.,  ..., 0., 0., 0.],\n",
      "         [0., 0., 0.,  ..., 0., 0., 0.]],\n",
      "\n",
      "        [[0., 0., 0.,  ..., 0., 0., 0.],\n",
      "         [0., 0., 0.,  ..., 0., 0., 0.],\n",
      "         [0., 0., 0.,  ..., 0., 0., 0.],\n",
      "         ...,\n",
      "         [0., 0., 0.,  ..., 0., 0., 0.],\n",
      "         [0., 0., 0.,  ..., 0., 0., 0.],\n",
      "         [0., 0., 0.,  ..., 0., 0., 0.]]], dtype=torch.float64)\n",
      "--Check size of labels/masks of first batch\n",
      "torch.Size([4, 1, 256, 256])\n",
      "tensor([[[0., 0., 0.,  ..., 0., 0., 0.],\n",
      "         [0., 0., 0.,  ..., 0., 0., 0.],\n",
      "         [0., 0., 0.,  ..., 0., 0., 0.],\n",
      "         ...,\n",
      "         [0., 0., 0.,  ..., 0., 0., 0.],\n",
      "         [0., 0., 0.,  ..., 0., 0., 0.],\n",
      "         [0., 0., 0.,  ..., 0., 0., 0.]]])\n"
     ]
    }
   ],
   "source": [
    "### Test dataloader\n",
    "sample_iter = iter(loaders_seg[1])\n",
    "sample_1 = next(sample_iter)\n",
    "sample_2 = next(sample_iter)\n",
    "print(\"--Check length of first batch, should be 2\")\n",
    "print(len(sample))\n",
    "print(\"--Check size of input images of first batch, should be ([{}, {}, {}, {}])\".format(BATCH_SIZE, 3, RESOLUTION, RESOLUTION))\n",
    "print(sample[0].size())\n",
    "print(sample[0][0])\n",
    "print(\"--Check size of labels/masks of first batch\")\n",
    "print(sample[1].size())\n",
    "print(sample[1][0])"
   ]
  },
  {
   "cell_type": "markdown",
   "id": "ff157608",
   "metadata": {},
   "source": [
    "<hr>"
   ]
  },
  {
   "cell_type": "code",
   "execution_count": 11,
   "id": "e71a64dd",
   "metadata": {},
   "outputs": [
    {
     "name": "stderr",
     "output_type": "stream",
     "text": [
      "Downloading: \"https://download.pytorch.org/models/resnet34-333f7ec4.pth\" to /tmp/xdg-cache/torch/hub/checkpoints/resnet34-333f7ec4.pth\n"
     ]
    },
    {
     "data": {
      "application/vnd.jupyter.widget-view+json": {
       "model_id": "91af205828a54b1690390e624a1f5595",
       "version_major": 2,
       "version_minor": 0
      },
      "text/plain": [
       "  0%|          | 0.00/83.3M [00:00<?, ?B/s]"
      ]
     },
     "metadata": {},
     "output_type": "display_data"
    }
   ],
   "source": [
    "model_seg = smp.Unet(\"resnet34\", encoder_weights=\"imagenet\", in_channels = 3, classes=1, activation=None)"
   ]
  },
  {
   "cell_type": "code",
   "execution_count": 12,
   "id": "a625386d",
   "metadata": {},
   "outputs": [],
   "source": [
    "### Modifying model\n",
    "class resnet34(nn.Module):\n",
    "\n",
    "    \"\"\"\n",
    "\n",
    "    Best to use pre-trained\n",
    "\n",
    "    \"\"\"\n",
    "\n",
    "    def __init__(self):\n",
    "\n",
    "        super().__init__()\n",
    "\n",
    "        self.model = models.resnet34(pretrained=True)\n",
    "\n",
    "        # initialize new output layer\n",
    "\n",
    "#         layers = np.array([layer for layer in self.model.children()])\n",
    "\n",
    "#         for layer in layers[:-4]:\n",
    "\n",
    "#             for param in layer.parameters():\n",
    "                \n",
    "#                 # Change parameters for all layers\n",
    "#                 param.requires_grad = False\n",
    "        \n",
    "#         for layer in layers[-4][:-4]:\n",
    "#             for param in layer.parameters():\n",
    "#                 param.requires_grad = False\n",
    "        \n",
    "        layers = np.array([layer for layer in self.model.children()])\n",
    "        \n",
    "        for layer in layers[:-2]:\n",
    "\n",
    "            for param in layer.parameters():\n",
    "                \n",
    "                # Change parameters for all layers\n",
    "                param.requires_grad = False\n",
    "                \n",
    "        self.model.fc = nn.Linear(512, 2)\n",
    "        \n",
    "        #num_open_param = 0\n",
    "        \n",
    "#         for layer in layers[-3:]:\n",
    "#             for param in layer.parameters():\n",
    "#                 num_open_param += 1\n",
    "#         print('Num Open Parameters: ', num_open_param)\n",
    "\n",
    "\n",
    "    def forward(self, x):\n",
    "\n",
    "        x = self.model(x)\n",
    "\n",
    "        return x"
   ]
  },
  {
   "cell_type": "markdown",
   "id": "db2607b0",
   "metadata": {},
   "source": [
    "<hr>"
   ]
  },
  {
   "cell_type": "code",
   "execution_count": 58,
   "id": "61398ff8",
   "metadata": {},
   "outputs": [],
   "source": [
    "def training_seg(model, num_epochs, batch_size, learning_rate, \n",
    "                    train_loader, val_loader):\n",
    "    \n",
    "    model.to(DEVICE)\n",
    "    \n",
    "    all_train_loss = []\n",
    "    all_val_loss = []\n",
    "    all_preds = []\n",
    "    all_masks = []\n",
    "    all_xray = []\n",
    "    \n",
    "    optimizer = Adam(model.parameters(), lr=learning_rate)\n",
    "    loss_fn = torch.nn.BCEWithLogitsLoss()\n",
    "    scaler = torch.cuda.amp.GradScaler()\n",
    "    \n",
    "    for epoch in tqdm(range(num_epochs)):\n",
    "        total_train_loss = 0\n",
    "        batch_num = 0\n",
    "        model.train()\n",
    "        \n",
    "        for i, (imgs, masks) in enumerate(train_loader):\n",
    "            batch_num += 1\n",
    "            \n",
    "            imgs, masks = imgs.to(DEVICE, dtype=torch.float), masks.to(DEVICE, dtype=torch.float)\n",
    "            \n",
    "            optimizer.zero_grad()\n",
    "            preds = model(imgs)\n",
    "            \n",
    "            \n",
    "            if (i == 0) & (epoch == 0):\n",
    "                print(preds)\n",
    "#             print(preds.size())\n",
    "#             print(masks.size())\n",
    "\n",
    "            \n",
    "            loss = loss_fn(preds, masks)\n",
    "    \n",
    "            loss.backward()\n",
    "            optimizer.step()\n",
    "            \n",
    "            \n",
    "#             with torch.cuda.amp.autocast():\n",
    "#                 preds = model(imgs)\n",
    "#                 if i == 0:\n",
    "#                     all_preds.append(preds.detach().cpu())\n",
    "#                 loss = loss_fn(preds, masks)\n",
    "                        \n",
    "#             optimizer.zero_grad()\n",
    "#             scaler.scale(loss).backward()\n",
    "#             scaler.step(optimizer)\n",
    "#             scaler.update()\n",
    "            \n",
    "            total_train_loss += float(loss)\n",
    "            \n",
    "            \n",
    "        if epoch == 0:\n",
    "            print(\"Total # of training batch: \", i + 1)\n",
    "\n",
    "        all_train_loss.append(total_train_loss / batch_num)\n",
    "            \n",
    "            \n",
    "    ## validation set\n",
    "        batch_num = 0\n",
    "        total_val_loss = 0\n",
    "        model.eval()\n",
    "        \n",
    "        for i, (imgs, masks) in enumerate(val_loader):\n",
    "            batch_num += 1\n",
    "            \n",
    "            imgs, masks = imgs.to(DEVICE, dtype=torch.float), masks.to(DEVICE, dtype=torch.float)\n",
    "            if i == 1:\n",
    "                print(masks[0].unique())\n",
    "            \n",
    "            preds = model(imgs)\n",
    "            \n",
    "            loss = loss_fn(preds, masks) # is this mean or sum?\n",
    "\n",
    "            total_val_loss += float(loss) # accumulate the total loss for this epoch.\n",
    "            \n",
    "            if i == 1:\n",
    "                all_preds.append(preds.detach().cpu())\n",
    "                all_masks.append(masks.detach().cpu())\n",
    "                all_xray.append(imgs.detach().cpu())\n",
    "            \n",
    "        if epoch == 0:\n",
    "            print(\"Total # of validation batch: \", i + 1)\n",
    "\n",
    "        all_val_loss.append(total_val_loss / batch_num)\n",
    "        \n",
    "    \n",
    "    #plot_both_loss(all_train_loss, all_val_loss)\n",
    "        \n",
    "    return model, all_train_loss, all_val_loss, all_preds, all_masks, all_xray"
   ]
  },
  {
   "cell_type": "code",
   "execution_count": 107,
   "id": "3f1535b0",
   "metadata": {},
   "outputs": [
    {
     "data": {
      "application/vnd.jupyter.widget-view+json": {
       "model_id": "7eb604bbf9ed4bf090f13c6ea072a75f",
       "version_major": 2,
       "version_minor": 0
      },
      "text/plain": [
       "  0%|          | 0/3 [00:00<?, ?it/s]"
      ]
     },
     "metadata": {},
     "output_type": "display_data"
    },
    {
     "name": "stderr",
     "output_type": "stream",
     "text": [
      "[W pthreadpool-cpp.cc:90] Warning: Leaking Caffe2 thread-pool after fork. (function pthreadpool)\n",
      "[W pthreadpool-cpp.cc:90] Warning: Leaking Caffe2 thread-pool after fork. (function pthreadpool)\n",
      "[W pthreadpool-cpp.cc:90] Warning: Leaking Caffe2 thread-pool after fork. (function pthreadpool)\n",
      "[W pthreadpool-cpp.cc:90] Warning: Leaking Caffe2 thread-pool after fork. (function pthreadpool)\n"
     ]
    },
    {
     "name": "stdout",
     "output_type": "stream",
     "text": [
      "tensor([[[[ -5.4236,  -7.8195,  -8.2421,  ...,  -6.7640,  -7.2379,  -4.9492],\n",
      "          [ -7.2715, -10.5941, -11.1527,  ...,  -9.7312, -10.4108,  -7.4916],\n",
      "          [ -7.8456, -11.0998, -11.3211,  ..., -11.0237, -11.7149,  -8.1475],\n",
      "          ...,\n",
      "          [ -7.0514, -10.2936, -10.6528,  ...,  -9.4951, -10.6973,  -7.4895],\n",
      "          [ -6.9525, -10.6434, -10.8489,  ..., -10.7718, -10.9951,  -7.4194],\n",
      "          [ -4.5067,  -6.5570,  -6.6878,  ...,  -6.8957,  -6.2710,  -4.3153]]],\n",
      "\n",
      "\n",
      "        [[[ -5.1279,  -7.4185,  -7.7659,  ...,  -6.7344,  -6.9549,  -4.7363],\n",
      "          [ -6.8333, -10.0039, -10.4399,  ...,  -9.3664,  -9.8552,  -7.0956],\n",
      "          [ -7.5028, -10.5472, -10.6955,  ..., -10.6910, -11.1949,  -7.5696],\n",
      "          ...,\n",
      "          [ -6.8970, -10.1352, -10.6569,  ..., -10.1845, -11.3059,  -7.7013],\n",
      "          [ -6.9135, -10.4848, -10.9705,  ..., -11.2104, -11.3408,  -7.5938],\n",
      "          [ -4.3553,  -6.3630,  -6.5942,  ...,  -6.9736,  -6.4798,  -4.3716]]],\n",
      "\n",
      "\n",
      "        [[[ -5.3322,  -7.6942,  -8.0347,  ...,  -6.7661,  -7.1840,  -4.9513],\n",
      "          [ -7.1988, -10.5240, -10.9675,  ...,  -9.7657, -10.3617,  -7.4707],\n",
      "          [ -7.8281, -11.0813, -11.2252,  ..., -11.0930, -11.7865,  -8.1782],\n",
      "          ...,\n",
      "          [ -7.2879, -10.2790,  -9.8140,  ...,  -9.6637, -10.8629,  -7.5685],\n",
      "          [ -7.5734, -11.0749, -10.9516,  ..., -10.9101, -11.1443,  -7.5166],\n",
      "          [ -4.4655,  -6.6563,  -7.2028,  ...,  -6.9516,  -6.3676,  -4.3767]]],\n",
      "\n",
      "\n",
      "        [[[ -5.1110,  -7.3456,  -7.7398,  ...,  -6.6893,  -7.1019,  -4.8744],\n",
      "          [ -6.7903,  -9.9033, -10.4189,  ...,  -9.5653, -10.2087,  -7.3559],\n",
      "          [ -7.3075, -10.3623, -10.5406,  ..., -10.8102, -11.6071,  -8.0174],\n",
      "          ...,\n",
      "          [ -7.7732, -10.4507,  -9.7258,  ...,  -9.6465, -10.8537,  -7.5351],\n",
      "          [ -7.6651, -11.0810, -10.8466,  ..., -10.9267, -11.1662,  -7.5466],\n",
      "          [ -4.6132,  -6.8626,  -7.2074,  ...,  -6.9907,  -6.4051,  -4.3967]]]],\n",
      "       device='cuda:0', grad_fn=<AddBackward0>)\n",
      "Total # of training batch:  1278\n"
     ]
    },
    {
     "name": "stderr",
     "output_type": "stream",
     "text": [
      "[W pthreadpool-cpp.cc:90] Warning: Leaking Caffe2 thread-pool after fork. (function pthreadpool)\n",
      "[W pthreadpool-cpp.cc:90] Warning: Leaking Caffe2 thread-pool after fork. (function pthreadpool)\n",
      "[W pthreadpool-cpp.cc:90] Warning: Leaking Caffe2 thread-pool after fork. (function pthreadpool)\n",
      "[W pthreadpool-cpp.cc:90] Warning: Leaking Caffe2 thread-pool after fork. (function pthreadpool)\n"
     ]
    },
    {
     "name": "stdout",
     "output_type": "stream",
     "text": [
      "tensor([0.0000, 0.2500, 0.5000, 0.7500, 1.0000], device='cuda:0')\n",
      "Total # of validation batch:  480\n"
     ]
    },
    {
     "name": "stderr",
     "output_type": "stream",
     "text": [
      "[W pthreadpool-cpp.cc:90] Warning: Leaking Caffe2 thread-pool after fork. (function pthreadpool)\n",
      "[W pthreadpool-cpp.cc:90] Warning: Leaking Caffe2 thread-pool after fork. (function pthreadpool)\n",
      "[W pthreadpool-cpp.cc:90] Warning: Leaking Caffe2 thread-pool after fork. (function pthreadpool)\n",
      "[W pthreadpool-cpp.cc:90] Warning: Leaking Caffe2 thread-pool after fork. (function pthreadpool)\n",
      "[W pthreadpool-cpp.cc:90] Warning: Leaking Caffe2 thread-pool after fork. (function pthreadpool)\n",
      "[W pthreadpool-cpp.cc:90] Warning: Leaking Caffe2 thread-pool after fork. (function pthreadpool)\n",
      "[W pthreadpool-cpp.cc:90] Warning: Leaking Caffe2 thread-pool after fork. (function pthreadpool)\n",
      "[W pthreadpool-cpp.cc:90] Warning: Leaking Caffe2 thread-pool after fork. (function pthreadpool)\n"
     ]
    },
    {
     "name": "stdout",
     "output_type": "stream",
     "text": [
      "tensor([0.0000, 0.2500, 0.5000, 0.7500, 1.0000], device='cuda:0')\n"
     ]
    },
    {
     "name": "stderr",
     "output_type": "stream",
     "text": [
      "[W pthreadpool-cpp.cc:90] Warning: Leaking Caffe2 thread-pool after fork. (function pthreadpool)\n",
      "[W pthreadpool-cpp.cc:90] Warning: Leaking Caffe2 thread-pool after fork. (function pthreadpool)\n",
      "[W pthreadpool-cpp.cc:90] Warning: Leaking Caffe2 thread-pool after fork. (function pthreadpool)\n",
      "[W pthreadpool-cpp.cc:90] Warning: Leaking Caffe2 thread-pool after fork. (function pthreadpool)\n",
      "[W pthreadpool-cpp.cc:90] Warning: Leaking Caffe2 thread-pool after fork. (function pthreadpool)\n",
      "[W pthreadpool-cpp.cc:90] Warning: Leaking Caffe2 thread-pool after fork. (function pthreadpool)\n",
      "[W pthreadpool-cpp.cc:90] Warning: Leaking Caffe2 thread-pool after fork. (function pthreadpool)\n",
      "[W pthreadpool-cpp.cc:90] Warning: Leaking Caffe2 thread-pool after fork. (function pthreadpool)\n"
     ]
    },
    {
     "name": "stdout",
     "output_type": "stream",
     "text": [
      "tensor([0.0000, 0.2500, 0.5000, 0.7500, 1.0000], device='cuda:0')\n"
     ]
    }
   ],
   "source": [
    "unet_model, train_loss, val_loss, logit_mask, true_mask, ori_xray = training_seg(model = model_seg,\n",
    "                                            num_epochs = 3, batch_size = BATCH_SIZE,\n",
    "                                            learning_rate = LEARNING_RATE,\n",
    "                                            train_loader = loaders_seg[0], val_loader = loaders_seg[1])"
   ]
  },
  {
   "cell_type": "code",
   "execution_count": 20,
   "id": "8a6e334b",
   "metadata": {},
   "outputs": [
    {
     "data": {
      "text/plain": [
       "1"
      ]
     },
     "execution_count": 20,
     "metadata": {},
     "output_type": "execute_result"
    }
   ],
   "source": [
    "len(logit_mask[0])"
   ]
  },
  {
   "cell_type": "code",
   "execution_count": 33,
   "id": "d48ead49",
   "metadata": {},
   "outputs": [
    {
     "data": {
      "text/plain": [
       "tensor([[-2.2192, -3.0278, -2.8606,  ..., -2.1828, -2.5819, -1.5581],\n",
       "        [-2.7805, -4.1317, -3.9864,  ..., -3.1070, -3.7405, -2.7540],\n",
       "        [-3.3740, -4.5302, -4.1722,  ..., -3.8578, -4.3822, -2.6994],\n",
       "        ...,\n",
       "        [-2.8635, -4.0008, -3.5540,  ..., -3.1482, -3.8921, -2.5905],\n",
       "        [-2.9892, -4.3781, -4.2172,  ..., -4.0760, -3.9785, -2.9327],\n",
       "        [-1.5707, -2.1090, -2.2108,  ..., -2.2616, -1.9111, -1.3896]])"
      ]
     },
     "execution_count": 33,
     "metadata": {},
     "output_type": "execute_result"
    }
   ],
   "source": [
    "logit_mask[0][0][0]#.shape"
   ]
  },
  {
   "cell_type": "code",
   "execution_count": 34,
   "id": "82441611",
   "metadata": {},
   "outputs": [
    {
     "data": {
      "text/plain": [
       "tensor([[0., 0., 0.,  ..., 0., 0., 0.],\n",
       "        [0., 0., 0.,  ..., 0., 0., 0.],\n",
       "        [0., 0., 0.,  ..., 0., 0., 0.],\n",
       "        ...,\n",
       "        [0., 0., 0.,  ..., 0., 0., 0.],\n",
       "        [0., 0., 0.,  ..., 0., 0., 0.],\n",
       "        [0., 0., 0.,  ..., 0., 0., 0.]])"
      ]
     },
     "execution_count": 34,
     "metadata": {},
     "output_type": "execute_result"
    }
   ],
   "source": [
    "ori_xray[0][0][0]#.shape"
   ]
  },
  {
   "cell_type": "code",
   "execution_count": 51,
   "id": "3839940d",
   "metadata": {},
   "outputs": [
    {
     "data": {
      "text/plain": [
       "tensor(65536)"
      ]
     },
     "execution_count": 51,
     "metadata": {},
     "output_type": "execute_result"
    }
   ],
   "source": [
    "torch.sum(true_mask[0][0][0] == true_mask[1][0][0])"
   ]
  },
  {
   "cell_type": "code",
   "execution_count": 45,
   "id": "aca0b8c9",
   "metadata": {},
   "outputs": [
    {
     "data": {
      "text/plain": [
       "tensor([0.0000, 0.2500, 0.5000, 0.7500, 1.0000])"
      ]
     },
     "execution_count": 45,
     "metadata": {},
     "output_type": "execute_result"
    }
   ],
   "source": [
    "true_mask[0][0][0].unique()#.shape"
   ]
  },
  {
   "cell_type": "code",
   "execution_count": 99,
   "id": "ac23b580",
   "metadata": {},
   "outputs": [],
   "source": [
    "def calculate_dc(preds, true_mask):\n",
    "    \"\"\"\n",
    "    Helper function to calculate dice coefficient from predicted and true masks, both in binary.\n",
    "    \"\"\"\n",
    "    if np.sum(true_mask) == 0:\n",
    "        # Return 0 if prediction is positive but true mask is negative\n",
    "        if np.sum(preds) != 0:\n",
    "            return 0\n",
    "        else:\n",
    "            # Return 1 if prediction and true mask are both negative\n",
    "            return 1\n",
    "    else:\n",
    "        # Return 0 if prediction is negative but true mask is positive\n",
    "        if np.sum(preds) == 0:\n",
    "            return 0\n",
    "        # Actually calculate dc if both prediction and mask are both positive\n",
    "        dc = np.sum(preds[true_mask==1])*2.0 / (np.sum(preds) + np.sum(true_mask))\n",
    "        return dc"
   ]
  },
  {
   "cell_type": "code",
   "execution_count": 100,
   "id": "6383bb3a",
   "metadata": {},
   "outputs": [],
   "source": [
    "def dice_coef_per_image(test_loader, model, sigmoid_threshold):\n",
    "    \"\"\"\n",
    "    Calculate dice coefficient from a test set. Based on the average of each dice coefficient.\n",
    "    Return a list \n",
    "    \"\"\"\n",
    "    dc_list = []\n",
    "    total_num_batch = 0\n",
    "    for i, (imgs, masks) in enumerate(test_loader):\n",
    "        total_num_batch += 1\n",
    "        imgs, masks = imgs.to(DEVICE, dtype=torch.float), masks.to(DEVICE, dtype=torch.float)\n",
    "        preds = model(imgs)\n",
    "        for j in range(BATCH_SIZE):\n",
    "            pred = preds[j].detach().cpu().squeeze()\n",
    "            pred_bi = bi_mask(pred, sigmoid_threshold)\n",
    "            cur_dc = calculate_dc(pred_bi, masks[j].detach().cpu().squeeze().numpy())\n",
    "            dc_list.append(cur_dc)\n",
    "    print('Total Number of Batch Size: ', total_num_batch)\n",
    "    return dc_list, np.mean(dc_list)"
   ]
  },
  {
   "cell_type": "code",
   "execution_count": 103,
   "id": "96629f59",
   "metadata": {},
   "outputs": [],
   "source": [
    "def bi_mask(logit_mask, threshold):\n",
    "    mask = np.where(logit_mask <= threshold, 0, 1)\n",
    "    \n",
    "    return mask"
   ]
  },
  {
   "cell_type": "code",
   "execution_count": 109,
   "id": "44eb304a",
   "metadata": {},
   "outputs": [
    {
     "name": "stderr",
     "output_type": "stream",
     "text": [
      "[W pthreadpool-cpp.cc:90] Warning: Leaking Caffe2 thread-pool after fork. (function pthreadpool)\n",
      "[W pthreadpool-cpp.cc:90] Warning: Leaking Caffe2 thread-pool after fork. (function pthreadpool)\n",
      "[W pthreadpool-cpp.cc:90] Warning: Leaking Caffe2 thread-pool after fork. (function pthreadpool)\n",
      "[W pthreadpool-cpp.cc:90] Warning: Leaking Caffe2 thread-pool after fork. (function pthreadpool)\n"
     ]
    },
    {
     "name": "stdout",
     "output_type": "stream",
     "text": [
      "Total Number of Batch Size:  480\n",
      "0.8189403376168393\n"
     ]
    }
   ],
   "source": [
    "dc_list, avg = dice_coef_per_image(loaders_seg[2], unet_model, 0.3)\n",
    "print(avg)"
   ]
  },
  {
   "cell_type": "markdown",
   "id": "cf743807",
   "metadata": {},
   "source": [
    "dice_avg_1 = 0.8723006845597181\n",
    "dice_avg_2 = 0.8662950791858317\n"
   ]
  },
  {
   "cell_type": "code",
   "execution_count": null,
   "id": "15701153",
   "metadata": {},
   "outputs": [],
   "source": [
    "class CANDID_PTX(Dataset):\n",
    "    def __init__(self, df, resolution, model_type):\n",
    "        self.img_paths = df['XRay_Path'].values\n",
    "        self.mask_paths = df['Mask_Path'].values\n",
    "        self.labels = torch.tensor(df[['Yes_Pneumothorax', 'No_Pneumothorax']].values, dtype=torch.float32)\n",
    "    \n",
    "        self.resolution = resolution\n",
    "        \n",
    "        # model_type: 'C' for Classification, 'S' for Segmentation\n",
    "        self.model_type = model_type\n",
    "                  \n",
    "        return\n",
    "            \n",
    "    \n",
    "    def __len__(self):\n",
    "        \n",
    "        return self.img_paths.shape[0]\n",
    "    \n",
    "    \n",
    "    def __getitem__(self, idx):\n",
    "        img_path = self.img_paths[idx]\n",
    "        img = dicom.dcmread(img_path).pixel_array\n",
    "        img_min = np.min(img)\n",
    "        img_max = np.max(img)\n",
    "        img_norm = (img - img_min) / (img_max - img_min)\n",
    "        img_norm = cv2.resize(img_norm, (self.resolution, self.resolution))\n",
    "        img_norm = torch.tensor(img_norm).expand(3, self.resolution, self.resolution)\n",
    "        \n",
    "        if self.model_type == 'C':\n",
    "            label = self.labels[idx]\n",
    "            \n",
    "            return img_norm, label\n",
    "        \n",
    "        elif self.model_type == 'S':\n",
    "            mask_path = self.mask_paths[idx]\n",
    "            mask = plt.imread(mask_path)[:, :, 0]\n",
    "            mask = cv2.resize(mask, (self.resolution, self.resolution))\n",
    "            mask = torch.tensor(mask).expand(1, self.resolution, self.resolution) \n",
    "\n",
    "            return img_norm, mask"
   ]
  },
  {
   "cell_type": "code",
   "execution_count": null,
   "id": "f9f835df",
   "metadata": {},
   "outputs": [],
   "source": []
  },
  {
   "cell_type": "code",
   "execution_count": null,
   "id": "a30fc4d3",
   "metadata": {},
   "outputs": [],
   "source": [
    "def training_class(model, num_epochs, batch_size, learning_rate, \n",
    "                    train_loader, val_loader):\n",
    "    \n",
    "    model.to(DEVICE)\n",
    "    \n",
    "    all_train_loss = []\n",
    "    all_val_loss = []\n",
    "#     all_preds = []\n",
    "#     all_masks = []\n",
    "#     all_xray = []\n",
    "    \n",
    "    optimizer = Adam(model.parameters(), lr=learning_rate)\n",
    "    loss_fn = torch.nn.BCEWithLogitsLoss()\n",
    "    scaler = torch.cuda.amp.GradScaler()\n",
    "    \n",
    "    for epoch in tqdm(range(num_epochs)):\n",
    "        total_train_loss = 0\n",
    "        batch_num = 0\n",
    "        model.train()\n",
    "        \n",
    "        for i, (imgs, labels) in enumerate(train_loader):\n",
    "            batch_num += 1\n",
    "            \n",
    "            imgs, labels = imgs.to(DEVICE, dtype=torch.float), labels.to(DEVICE, dtype=torch.float)\n",
    "            \n",
    "            optimizer.zero_grad()\n",
    "            preds = model(imgs)\n",
    "            \n",
    "            \n",
    "            if (i == 0) & (epoch == 0):\n",
    "                print(preds)\n",
    "                print(labels)\n",
    "#             print(preds.size())\n",
    "#             print(masks.size())\n",
    "\n",
    "            \n",
    "            loss = loss_fn(preds, labels)\n",
    "    \n",
    "            loss.backward()\n",
    "            optimizer.step()\n",
    "            \n",
    "            \n",
    "#             with torch.cuda.amp.autocast():\n",
    "#                 preds = model(imgs)\n",
    "#                 if i == 0:\n",
    "#                     all_preds.append(preds.detach().cpu())\n",
    "#                 loss = loss_fn(preds, masks)\n",
    "                        \n",
    "#             optimizer.zero_grad()\n",
    "#             scaler.scale(loss).backward()\n",
    "#             scaler.step(optimizer)\n",
    "#             scaler.update()\n",
    "            \n",
    "            total_train_loss += float(loss)\n",
    "            \n",
    "            \n",
    "        if epoch == 0:\n",
    "            print(\"Total # of training batch: \", i + 1)\n",
    "\n",
    "        all_train_loss.append(total_train_loss / batch_num)\n",
    "            \n",
    "            \n",
    "    ## validation set\n",
    "        batch_num = 0\n",
    "        total_val_loss = 0\n",
    "        model.eval()\n",
    "        \n",
    "        for i, (imgs, labels) in enumerate(val_loader):\n",
    "            batch_num += 1\n",
    "            \n",
    "            imgs, labels = imgs.to(DEVICE, dtype=torch.float), labels.to(DEVICE, dtype=torch.float)\n",
    "            \n",
    "            preds = model(imgs)\n",
    "            \n",
    "            loss = loss_fn(preds, labels) # is this mean or sum?\n",
    "\n",
    "            total_val_loss += float(loss) # accumulate the total loss for this epoch.\n",
    "            \n",
    "#             if i == 1:\n",
    "#                 all_preds.append(preds.detach().cpu())\n",
    "#                 all_masks.append(masks.detach().cpu())\n",
    "#                 all_xray.append(imgs.detach().cpu())\n",
    "            \n",
    "        if epoch == 0:\n",
    "            print(\"Total # of validation batch: \", i + 1)\n",
    "\n",
    "        all_val_loss.append(total_val_loss / batch_num)\n",
    "        \n",
    "    \n",
    "    #plot_both_loss(all_train_loss, all_val_loss)\n",
    "        \n",
    "    return model, all_train_loss, all_val_loss#, all_preds, all_masks, all_xray"
   ]
  },
  {
   "cell_type": "code",
   "execution_count": null,
   "id": "8cb3db64",
   "metadata": {},
   "outputs": [],
   "source": [
    "model_class = resnet34()"
   ]
  },
  {
   "cell_type": "code",
   "execution_count": 30,
   "id": "cb53a98d",
   "metadata": {},
   "outputs": [
    {
     "ename": "NameError",
     "evalue": "name 'training' is not defined",
     "output_type": "error",
     "traceback": [
      "\u001b[0;31m---------------------------------------------------------------------------\u001b[0m",
      "\u001b[0;31mNameError\u001b[0m                                 Traceback (most recent call last)",
      "\u001b[0;32m/tmp/ipykernel_148/1612866384.py\u001b[0m in \u001b[0;36m<module>\u001b[0;34m\u001b[0m\n\u001b[0;32m----> 1\u001b[0;31m resnet_model, train_loss, val_loss = training(model = model_class,\n\u001b[0m\u001b[1;32m      2\u001b[0m                                             \u001b[0mnum_epochs\u001b[0m \u001b[0;34m=\u001b[0m \u001b[0mNUM_EPOCHS\u001b[0m\u001b[0;34m,\u001b[0m \u001b[0mbatch_size\u001b[0m \u001b[0;34m=\u001b[0m \u001b[0mBATCH_SIZE\u001b[0m\u001b[0;34m,\u001b[0m\u001b[0;34m\u001b[0m\u001b[0;34m\u001b[0m\u001b[0m\n\u001b[1;32m      3\u001b[0m                                             \u001b[0mlearning_rate\u001b[0m \u001b[0;34m=\u001b[0m \u001b[0mLEARNING_RATE\u001b[0m\u001b[0;34m,\u001b[0m\u001b[0;34m\u001b[0m\u001b[0;34m\u001b[0m\u001b[0m\n\u001b[1;32m      4\u001b[0m                                             train_loader = loaders_seg[0], val_loader = loaders_seg[1])\n",
      "\u001b[0;31mNameError\u001b[0m: name 'training' is not defined"
     ]
    }
   ],
   "source": [
    "resnet_model, train_loss, val_loss = training(model = model_class,\n",
    "                                            num_epochs = NUM_EPOCHS, batch_size = BATCH_SIZE,\n",
    "                                            learning_rate = LEARNING_RATE,\n",
    "                                            train_loader = loaders_class[0], val_loader = loaders_class[1])"
   ]
  },
  {
   "cell_type": "code",
   "execution_count": null,
   "id": "a9b0d0f9",
   "metadata": {},
   "outputs": [],
   "source": [
    "def plot_both_loss(all_train_loss, all_val_loss, model_name, resolution):\n",
    "    plt.figure(figsize=(20, 10))\n",
    "    sns.set(style=\"whitegrid\")\n",
    "    epoch_num = len(all_train_loss)\n",
    "    df = pd.DataFrame({'x':range(epoch_num),\n",
    "                    'train_loss':all_train_loss,\n",
    "                      'val_loss':all_val_loss})\n",
    "    df = df.set_index('x')\n",
    "    \n",
    "    train_val_loss = sns.lineplot(data=df, linewidth=2.5)\n",
    "\n",
    "    ## now label the y- and x-axes.\n",
    "    plt.ylabel('BCE Loss')\n",
    "    plt.xlabel('Epoch Number')\n",
    "    plt.title('BCE Loss of {} with resolution {}'.format(model_name, resolution))\n",
    "    plt.show()\n",
    "    \n",
    "    fig = train_val_loss.get_figure()\n",
    "    #fig.save('train_val_loss.png')"
   ]
  },
  {
   "cell_type": "code",
   "execution_count": null,
   "id": "bcb7499e",
   "metadata": {},
   "outputs": [],
   "source": [
    "plot_both_loss(train_loss, val_loss, 'resnet34+unet', str(RESOLUTION))"
   ]
  }
 ],
 "metadata": {
  "kernelspec": {
   "display_name": "Python 3 (clean)",
   "language": "python",
   "name": "python3_clean"
  },
  "language_info": {
   "codemirror_mode": {
    "name": "ipython",
    "version": 3
   },
   "file_extension": ".py",
   "mimetype": "text/x-python",
   "name": "python",
   "nbconvert_exporter": "python",
   "pygments_lexer": "ipython3",
   "version": "3.9.5"
  }
 },
 "nbformat": 4,
 "nbformat_minor": 5
}
