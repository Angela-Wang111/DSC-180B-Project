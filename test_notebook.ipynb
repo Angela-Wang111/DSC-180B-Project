{
 "cells": [
  {
   "cell_type": "code",
   "execution_count": 14,
   "id": "afe6b1b5",
   "metadata": {},
   "outputs": [],
   "source": [
    "import json\n",
    "import numpy as np"
   ]
  },
  {
   "cell_type": "code",
   "execution_count": 15,
   "id": "9d5df2f7",
   "metadata": {},
   "outputs": [
    {
     "name": "stdout",
     "output_type": "stream",
     "text": [
      "{'NUM_EPOCHS': 5, 'BATCH_SIZE': 4, 'LEARNING_RATE': 0.0001, 'THRESHOLD': 0.3, 'RESOLUTION': 512, 'NUM_WORKERS': 4, 'PIN_MEMORY': True, 'DROP_LAST': True}\n"
     ]
    }
   ],
   "source": [
    "with open('config.json', 'r') as fh:\n",
    "    params = json.load(fh)\n",
    "    print(params)"
   ]
  },
  {
   "cell_type": "code",
   "execution_count": 18,
   "id": "646bf9a8",
   "metadata": {},
   "outputs": [
    {
     "data": {
      "text/plain": [
       "array([5.00e+00, 4.00e+00, 1.00e-04, 3.00e-01, 5.12e+02, 4.00e+00,\n",
       "       1.00e+00, 1.00e+00])"
      ]
     },
     "execution_count": 18,
     "metadata": {},
     "output_type": "execute_result"
    }
   ],
   "source": [
    "np.array([param])"
   ]
  },
  {
   "cell_type": "code",
   "execution_count": 21,
   "id": "2365b388",
   "metadata": {},
   "outputs": [],
   "source": [
    "model_type = 'cla'"
   ]
  },
  {
   "cell_type": "code",
   "execution_count": 37,
   "id": "78eb4539",
   "metadata": {},
   "outputs": [],
   "source": [
    "def run_model(model_type, NUM_EPOCHS, \n",
    "              BATCH_SIZE, LEARNING_RATE, \n",
    "              THRESHOLD, RESOLUTION, \n",
    "              NUM_WORKERS, PIN_MEMORY, DROP_LAST):\n",
    "    print(PIN_MEMORY)"
   ]
  },
  {
   "cell_type": "code",
   "execution_count": 38,
   "id": "01eb1b86",
   "metadata": {},
   "outputs": [
    {
     "name": "stdout",
     "output_type": "stream",
     "text": [
      "True\n"
     ]
    }
   ],
   "source": [
    "run_model(model_type, **params)"
   ]
  },
  {
   "cell_type": "code",
   "execution_count": 39,
   "id": "28af7c2e",
   "metadata": {},
   "outputs": [],
   "source": [
    "sample = None"
   ]
  },
  {
   "cell_type": "code",
   "execution_count": 40,
   "id": "a619e4b2",
   "metadata": {},
   "outputs": [
    {
     "data": {
      "text/plain": [
       "True"
      ]
     },
     "execution_count": 40,
     "metadata": {},
     "output_type": "execute_result"
    }
   ],
   "source": [
    "sample == None"
   ]
  },
  {
   "cell_type": "code",
   "execution_count": null,
   "id": "0577b67d",
   "metadata": {},
   "outputs": [],
   "source": []
  }
 ],
 "metadata": {
  "kernelspec": {
   "display_name": "Python 3 (clean)",
   "language": "python",
   "name": "python3_clean"
  },
  "language_info": {
   "codemirror_mode": {
    "name": "ipython",
    "version": 3
   },
   "file_extension": ".py",
   "mimetype": "text/x-python",
   "name": "python",
   "nbconvert_exporter": "python",
   "pygments_lexer": "ipython3",
   "version": "3.9.5"
  }
 },
 "nbformat": 4,
 "nbformat_minor": 5
}
